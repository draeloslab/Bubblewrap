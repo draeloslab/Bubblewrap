{
 "cells": [
  {
   "cell_type": "code",
   "execution_count": 1,
   "id": "ffddc7ae-8539-4fe0-9be5-fcedf713346b",
   "metadata": {
    "tags": []
   },
   "outputs": [],
   "source": [
    "import numpy as np\n",
    "import matplotlib.pyplot as plt\n",
    "from tqdm import tqdm\n",
    "import pickle\n",
    "import time\n",
    "\n",
    "import sys\n",
    "sys.path.append(\"../../scripts\")\n",
    "\n",
    "import matplotlib.pyplot as plt\n",
    "import pandas as pd\n",
    "\n",
    "from scripts.run_bubblewrap import BubblewrapRun"
   ]
  },
  {
   "cell_type": "code",
   "execution_count": 2,
   "id": "9774cb53-3719-405c-b003-b6df55e409e1",
   "metadata": {},
   "outputs": [
    {
     "data": {
      "text/plain": [
       "{'divide': 'warn', 'over': 'warn', 'under': 'ignore', 'invalid': 'warn'}"
      ]
     },
     "execution_count": 2,
     "metadata": {},
     "output_type": "execute_result"
    }
   ],
   "source": [
    "rng = np.random.default_rng()\n",
    "np.seterr(all='warn')"
   ]
  },
  {
   "cell_type": "markdown",
   "id": "261dce2d-80bc-4c35-8516-561d010b81f5",
   "metadata": {
    "tags": []
   },
   "source": [
    "## Clock w/forgetting\n",
    "* make a way to compare conditions\n",
    "* look at c and d magnitudes over time across conditions\n",
    "* start comparing alternate methods\n",
    "\n",
    "* ridge regression\n",
    "* keeping D and c in some range\n",
    "* periodically recalcualte D"
   ]
  },
  {
   "cell_type": "code",
   "execution_count": 465,
   "id": "669a9a63-31e3-48dd-b39c-d5833266cf8f",
   "metadata": {},
   "outputs": [],
   "source": [
    "def make_xy(x_max_height=False, fit_intercept=False, keep_dead_nodes=False, y_true_alignment=True, y_tile_invert=True, zscore_x=False, xy_tiles=1, **kwargs):\n",
    "    with open('../bubblewrap_runs/bubblewrap_run_2023-06-19-11-03-33.pickle', \"rb\") as fhan:\n",
    "        br = pickle.load(fhan)\n",
    "    x_slice_start = 0\n",
    "    x_slice_end = br.alpha_list.shape[0]\n",
    "    if y_true_alignment:\n",
    "        x_slice_start = 1\n",
    "    if x_max_height:\n",
    "        x_slice_end = min(x_slice_start + x_max_height, x_slice_end)\n",
    "    \n",
    "    node_slice = slice(0,br.alpha_list.shape[1])\n",
    "    if not keep_dead_nodes:\n",
    "        node_slice = slice(0,8)\n",
    "    \n",
    "    \n",
    "    X = br.alpha_list[x_slice_start:x_slice_end,node_slice]\n",
    "    \n",
    "    if zscore_x:\n",
    "        X = (X - X.mean(axis=0))/X.std(axis=0)\n",
    "    \n",
    "    if fit_intercept:\n",
    "        X = np.hstack([X, np.ones(shape=[X.shape[0],1])])\n",
    "    \n",
    "    y = np.load('../datasets/clock-steadier_farther.npz')['x']\n",
    "    if y_tile_invert:\n",
    "        y = np.hstack([y, -y, y]).reshape((-1,1))\n",
    "    else:\n",
    "        y = np.hstack([y, y, y]).reshape((-1,1))\n",
    "    y = y[:X.shape[0]]\n",
    "    \n",
    "    \n",
    "    X = np.tile(X, reps=(xy_tiles,1))\n",
    "    y = np.tile(y, reps=(xy_tiles,1))\n",
    "    return X, y"
   ]
  },
  {
   "cell_type": "code",
   "execution_count": 145,
   "id": "aa8191c2-e1ec-4246-a6c3-b621ec6b4298",
   "metadata": {
    "jupyter": {
     "source_hidden": true
    },
    "tags": []
   },
   "outputs": [],
   "source": [
    "def regress_online_more(X, y, m=50, forgetting_factor=1, log_extra=True, **kwargs):\n",
    "    logger = dict(d_hist=[], c_hist=[], w_hist=[], pred_hist=[], i_hist=[], d_recal_hist=[], pred_recal_hist=[], pred_lstsq_hist=[], w_recal_hist=[])\n",
    "    start = time.time()\n",
    "    \n",
    "    c = X[:m].T @ y[:m]\n",
    "    F = X[:m].T @ X[:m]\n",
    "    D = np.linalg.inv(F)\n",
    "    for i in (np.arange(0,X.shape[0])):\n",
    "        if i >= m:\n",
    "            # get most recent timepoint\n",
    "            x = X[i:i+1,:].T\n",
    "\n",
    "            # modify by forgetting factors\n",
    "            D = D / forgetting_factor \n",
    "            c = c * forgetting_factor\n",
    "            F = F * forgetting_factor\n",
    "            \n",
    "            # update c and D\n",
    "            D = D - (D @ x @ x.T @ D)/(1 + x.T @ D @ x)\n",
    "            c = c  + x * y[i]\n",
    "            F = F + x@x.T\n",
    "            \n",
    "            \n",
    "            # logging\n",
    "            if log_extra:\n",
    "                F_pinv = np.linalg.pinv(F)\n",
    "                logger['d_hist'].append(D)\n",
    "                logger['c_hist'].append(c)\n",
    "                logger['d_recal_hist'].append(F_pinv)\n",
    "                \n",
    "            logger['i_hist'].append(i)\n",
    "            w = D @ c\n",
    "            logger['w_hist'].append(w)\n",
    "            logger['pred_hist'].append(X[i,:]@ D @ c)\n",
    "            if log_extra:\n",
    "                logger['w_recal_hist'].append(F_pinv @ c)\n",
    "\n",
    "                logger['pred_recal_hist'].append(X[i,:] @ F_pinv @ c)\n",
    "                logger['pred_lstsq_hist'].append(X[i,:] @ np.linalg.lstsq(F, c, rcond=None)[0])\n",
    "    end = time.time()\n",
    "    for key in logger:\n",
    "        logger[key] = np.squeeze(logger[key])\n",
    "    logger['time'] = end-start\n",
    "\n",
    "    logger['y_hist'] = y[logger['i_hist']]\n",
    "    return logger"
   ]
  },
  {
   "cell_type": "code",
   "execution_count": 322,
   "id": "c52c14de-a356-48a3-8d3a-b1c528a6b786",
   "metadata": {
    "tags": []
   },
   "outputs": [],
   "source": [
    "def regress_online_dirty(X, y, m=50, forgetting_factor=1, noise_scale=0,log_extra=True, **kwargs):\n",
    "    logger = dict(d_hist=[], c_hist=[], w_hist=[], pred_hist=[], i_hist=[], d_recal_hist=[], pred_recal_hist=[], pred_lstsq_hist=[], w_recal_hist=[])\n",
    "    start = time.time()\n",
    "    \n",
    "    Xm = X[:m] \n",
    "    Xm += rng.normal(scale = 1e-5, size=Xm.shape)\n",
    "    c = Xm.T @ y[:m]\n",
    "    F = Xm.T @ Xm\n",
    "    D = np.linalg.pinv(F)\n",
    "    for i in (np.arange(0,X.shape[0])):\n",
    "        if i >= m:\n",
    "            # get most recent timepoint\n",
    "            x = X[i:i+1,:].T\n",
    "            x += rng.normal(scale = noise_scale, size=x.shape)\n",
    "\n",
    "            # modify by forgetting factors\n",
    "            D = D / forgetting_factor \n",
    "            c = c * forgetting_factor\n",
    "            F = F * forgetting_factor\n",
    "            \n",
    "            # update c and D\n",
    "            D = D - (D @ x @ x.T @ D)/(1 + x.T @ D @ x)\n",
    "            c = c  + x * y[i]\n",
    "            F = F + x@x.T\n",
    "            \n",
    "            \n",
    "            # logging\n",
    "            \n",
    "            logger['i_hist'].append(i)\n",
    "            logger['pred_hist'].append(X[i,:]@ D @ c)\n",
    "\n",
    "\n",
    "            w = D @ c\n",
    "            logger['w_hist'].append(w)\n",
    "            \n",
    "            if log_extra:\n",
    "                F_pinv = np.linalg.pinv(F)\n",
    "                logger['d_hist'].append(D)\n",
    "                logger['c_hist'].append(c)\n",
    "\n",
    "                logger['d_recal_hist'].append(F_pinv)            \n",
    "                logger['w_recal_hist'].append(F_pinv @ c)\n",
    "                logger['pred_recal_hist'].append(X[i,:] @ F_pinv @ c)\n",
    "                logger['pred_lstsq_hist'].append(X[i,:] @ np.linalg.lstsq(F, c, rcond=None)[0])\n",
    "    end = time.time()\n",
    "    for key in logger:\n",
    "        logger[key] = np.squeeze(logger[key])\n",
    "    logger['time'] = end-start\n",
    "    logger['y_hist'] = y[logger['i_hist']]\n",
    "    return logger"
   ]
  },
  {
   "cell_type": "code",
   "execution_count": 467,
   "id": "a6be270a-fe9f-4cc7-a1f2-b5529e61292c",
   "metadata": {
    "tags": []
   },
   "outputs": [],
   "source": [
    "def regress_online_dirty_symmetric(X, y, m=50, forgetting_factor=1, noise_scale=0,log_extra=True, **kwargs):\n",
    "    logger = dict(d_hist=[], c_hist=[], w_hist=[], pred_hist=[], i_hist=[], d_recal_hist=[], pred_recal_hist=[], pred_lstsq_hist=[], w_recal_hist=[])\n",
    "    start = time.time()\n",
    "    \n",
    "    Xm = X[:m] \n",
    "    Xm += rng.normal(scale = noise_scale, size=Xm.shape)\n",
    "    c = Xm.T @ y[:m]\n",
    "    F = Xm.T @ Xm\n",
    "    D = np.linalg.pinv(F)\n",
    "    for i in (np.arange(0,X.shape[0])):\n",
    "        if i >= m:\n",
    "            # get most recent timepoint\n",
    "            x0 = X[i:i+1,:].T\n",
    "            dx = rng.normal(scale = noise_scale, size=x0.shape)\n",
    "            D = D / forgetting_factor \n",
    "            c = c * forgetting_factor\n",
    "            F = F * forgetting_factor\n",
    "            \n",
    "            for j in range(2):\n",
    "                x = x0 + dx if j==0 else x0 - dx\n",
    "                # modify by forgetting factors\n",
    "\n",
    "\n",
    "                # update c and D\n",
    "                D = D - (D @ x @ x.T @ D)/(1 + x.T @ D @ x)\n",
    "                c = c  + x * y[i]\n",
    "                F = F + x@x.T\n",
    "            \n",
    "            \n",
    "            # logging\n",
    "            \n",
    "            logger['i_hist'].append(i)\n",
    "            logger['pred_hist'].append(X[i,:]@ D @ c)\n",
    "\n",
    "\n",
    "            w = D @ c\n",
    "            logger['w_hist'].append(w)\n",
    "            \n",
    "            if log_extra:\n",
    "                F_pinv = np.linalg.pinv(F)\n",
    "                logger['d_hist'].append(D)\n",
    "                logger['c_hist'].append(c)\n",
    "\n",
    "                logger['d_recal_hist'].append(F_pinv)            \n",
    "                logger['w_recal_hist'].append(F_pinv @ c)\n",
    "                logger['pred_recal_hist'].append(X[i,:] @ F_pinv @ c)\n",
    "                logger['pred_lstsq_hist'].append(X[i,:] @ np.linalg.lstsq(F, c, rcond=None)[0])\n",
    "    end = time.time()\n",
    "    for key in logger:\n",
    "        logger[key] = np.squeeze(logger[key])\n",
    "    logger['time'] = end-start\n",
    "    logger['y_hist'] = y[logger['i_hist']]\n",
    "    return logger"
   ]
  },
  {
   "cell_type": "code",
   "execution_count": 380,
   "id": "9e73d9c1-09e9-4e7d-ae34-1d82d682de9e",
   "metadata": {
    "tags": []
   },
   "outputs": [],
   "source": [
    "def regress_online_window(X, y, m=50, window_length=50, forgetting_factor=1, log_extra=True, **kwargs):\n",
    "    logger = dict(d_hist=[], c_hist=[], w_hist=[], pred_hist=[], i_hist=[], d_recal_hist=[], pred_recal_hist=[], pred_lstsq_hist=[], w_recal_hist=[])\n",
    "    start = time.time()\n",
    "    \n",
    "    window = list(X[:m])\n",
    "    y_history = list(y[:m])\n",
    "    F = X[:m].T @ X[:m]\n",
    "    # D = np.linalg.inv(F)\n",
    "    for i in (np.arange(m,X.shape[0])):\n",
    "        # get most recent timepoint\n",
    "        x = X[i:i+1,:].T\n",
    "\n",
    "        # modify by forgetting factors\n",
    "        # D = D / forgetting_factor \n",
    "        # c = c * forgetting_factor\n",
    "        F = F * forgetting_factor\n",
    "\n",
    "        # update c and D\n",
    "        if len(window) > window_length:\n",
    "            window.pop(0)\n",
    "            y_history.pop(0)\n",
    "        for j in range(len(window)):\n",
    "            window[j] *= forgetting_factor\n",
    "            y_history[j] = y_history[j] * forgetting_factor\n",
    "        \n",
    "        window.append(X[i])\n",
    "        y_history.append(y[i,0])\n",
    "        win = np.array(window)\n",
    "\n",
    "        D = np.linalg.pinv(win.T @ win)\n",
    "\n",
    "        c = 0\n",
    "        for j in range(len(window)):\n",
    "            c += y_history[j] * window[j]\n",
    "        F = F + x@x.T\n",
    "        \n",
    "\n",
    "        # logging\n",
    "\n",
    "        logger['i_hist'].append(i)\n",
    "\n",
    "\n",
    "        w = D @ c\n",
    "        logger['pred_hist'].append(X[i,:]@ D @ c)\n",
    "        \n",
    "        if log_extra:\n",
    "            F_pinv = np.linalg.pinv(F)\n",
    "            logger['d_hist'].append(D)\n",
    "            logger['c_hist'].append(c)\n",
    "            logger['d_recal_hist'].append(F_pinv)\n",
    "            logger['w_hist'].append(w)\n",
    "            logger['w_recal_hist'].append(F_pinv @ c)\n",
    "            \n",
    "            logger['pred_recal_hist'].append(X[i,:] @ F_pinv @ c)\n",
    "            logger['pred_lstsq_hist'].append(X[i,:] @ np.linalg.lstsq(F, c, rcond=None)[0])\n",
    "    end = time.time()\n",
    "    for key in logger:\n",
    "        logger[key] = np.squeeze(logger[key])\n",
    "    logger['time'] = end-start\n",
    "    logger['y_hist'] = y[logger['i_hist']]\n",
    "    return logger"
   ]
  },
  {
   "cell_type": "code",
   "execution_count": 483,
   "id": "c930cf80-d62f-493c-b2ec-8c3965041410",
   "metadata": {
    "tags": []
   },
   "outputs": [],
   "source": [
    "def regress_online_window_fast(X, y, m=50, window_length=50, forgetting_factor=1, log_extra=True, **kwargs):\n",
    "    logger = dict(d_hist=[], c_hist=[], w_hist=[], pred_hist=[], i_hist=[], d_recal_hist=[], pred_recal_hist=[], pred_lstsq_hist=[], w_recal_hist=[])\n",
    "    start = time.time()\n",
    "    \n",
    "    window = list(X[:m])\n",
    "    y_history = list(y[:m])\n",
    "    F = X[:m].T @ X[:m]\n",
    "    \n",
    "    # D = np.linalg.inv(F)\n",
    "    for i in (np.arange(m,X.shape[0])):\n",
    "        # get most recent timepoint\n",
    "        x = X[i:i+1,:].T\n",
    "\n",
    "        # modify by forgetting factors\n",
    "        # D = D / forgetting_factor \n",
    "        # c = c * forgetting_factor\n",
    "        F = F * forgetting_factor\n",
    "\n",
    "        # update c and D\n",
    "        if len(window) > window_length:\n",
    "            window.pop(0)\n",
    "            y_history.pop(0)\n",
    "        for j in range(len(window)):\n",
    "            window[j] *= forgetting_factor\n",
    "            y_history[j] = y_history[j] * forgetting_factor\n",
    "        \n",
    "        window.append(X[i])\n",
    "        y_history.append(y[i,0])\n",
    "        win = np.array(window)\n",
    "\n",
    "        D = np.linalg.pinv(win.T @ win)\n",
    "\n",
    "        c = 0\n",
    "        for j in range(len(window)):\n",
    "            c += y_history[j] * window[j]\n",
    "        F = F + x@x.T\n",
    "        \n",
    "\n",
    "        # logging\n",
    "\n",
    "        logger['i_hist'].append(i)\n",
    "\n",
    "\n",
    "        w = D @ c\n",
    "        logger['pred_hist'].append(X[i,:]@ D @ c)\n",
    "        \n",
    "        if log_extra:\n",
    "            F_pinv = np.linalg.pinv(F)\n",
    "            logger['d_hist'].append(D)\n",
    "            logger['c_hist'].append(c)\n",
    "            logger['d_recal_hist'].append(F_pinv)\n",
    "            logger['w_hist'].append(w)\n",
    "            logger['w_recal_hist'].append(F_pinv @ c)\n",
    "            \n",
    "            logger['pred_recal_hist'].append(X[i,:] @ F_pinv @ c)\n",
    "            logger['pred_lstsq_hist'].append(X[i,:] @ np.linalg.lstsq(F, c, rcond=None)[0])\n",
    "    end = time.time()\n",
    "    for key in logger:\n",
    "        logger[key] = np.squeeze(logger[key])\n",
    "    logger['time'] = end-start\n",
    "    logger['y_hist'] = y[logger['i_hist']]\n",
    "    return logger"
   ]
  },
  {
   "cell_type": "code",
   "execution_count": 324,
   "id": "73d1beb8-a265-4dcf-b59d-4fd4a04cceb7",
   "metadata": {
    "jupyter": {
     "source_hidden": true
    },
    "tags": []
   },
   "outputs": [],
   "source": [
    "def regress_online_more_eecs_paper(X, y, m=50, forgetting_factor=1, log_extra=False, noise_scale=0, **kwargs):\n",
    "    logger = dict(d_hist=[], c_hist=[], w_hist=[], pred_hist=[], i_hist=[], d_recal_hist=[], pred_recal_hist=[], pred_lstsq_hist=[])\n",
    "    start = time.time()\n",
    "    \n",
    "    c = X[:m].T @ y[:m]\n",
    "    F = X[:m].T @ X[:m]\n",
    "    D = np.linalg.pinv(F)\n",
    "    # w = np.zeros((X.shape[1],1))\n",
    "    w = np.linalg.lstsq(F, c, rcond=None)[0]\n",
    "    for i in (np.arange(0,X.shape[0])):\n",
    "        if i >= m:\n",
    "            # get most recent timepoint\n",
    "            x = X[i:i+1,:].T\n",
    "            x += rng.normal(scale = noise_scale, size=x.shape)\n",
    "\n",
    "            g = D @ x\n",
    "            alpha = 1/np.squeeze(forgetting_factor + x.T @ g)\n",
    "            e = y[i] - np.squeeze(w.T @ x)\n",
    "\n",
    "            \n",
    "            \n",
    "            \n",
    "            # update c and D\n",
    "            D = (1/forgetting_factor) * D - (1/forgetting_factor) * alpha * g @ g.T\n",
    "            w = w + alpha * g * e\n",
    "            c = c  + x * y[i]\n",
    "            F = F + x@x.T\n",
    "            \n",
    "            \n",
    "            # logging\n",
    "            \n",
    "            logger['i_hist'].append(i)\n",
    "            logger['pred_hist'].append(X[i,:]@ w)\n",
    "            \n",
    "            if log_extra:\n",
    "                F_pinv = np.linalg.pinv(F)\n",
    "                logger['d_hist'].append(D)\n",
    "                logger['c_hist'].append(c)\n",
    "                logger['d_recal_hist'].append(F_pinv)\n",
    "\n",
    "                logger['w_hist'].append(w)\n",
    "\n",
    "                logger['pred_recal_hist'].append(X[i,:] @ F_pinv @ c)\n",
    "                logger['pred_lstsq_hist'].append(X[i,:] @ np.linalg.lstsq(F, c, rcond=None)[0])\n",
    "    end = time.time()\n",
    "    for key in logger:\n",
    "        logger[key] = np.squeeze(logger[key])\n",
    "    logger['time'] = end-start\n",
    "    logger['y_hist'] = y[logger['i_hist']]\n",
    "    return logger"
   ]
  },
  {
   "cell_type": "code",
   "execution_count": 276,
   "id": "fc31b469-2e91-493b-8c33-edc9270ae3b0",
   "metadata": {
    "jupyter": {
     "source_hidden": true
    },
    "tags": []
   },
   "outputs": [],
   "source": [
    "def mpi_rank1_update(D,F,x):\n",
    "    ε = 1e-15# 03b5\n",
    "\n",
    "    beta = (1 + x.T @ D @ x)[0,0]\n",
    "    v = D @ x\n",
    "    n = D.T @ x\n",
    "    w = (np.eye(D.shape[0]) - F @ D) @ x\n",
    "    m = (np.eye(D.shape[0]) - D @ F).T @ x\n",
    "\n",
    "    lw = np.linalg.norm(w)\n",
    "    lm = np.linalg.norm(m)\n",
    "    lv = np.linalg.norm(v)\n",
    "    ln = np.linalg.norm(n)\n",
    "\n",
    "    if lw > ε and lm > ε:\n",
    "        case = 0\n",
    "        G = -1 * v @ w.T/(lw**2)  - m @ n.T/(lm**2) + beta * m @ w.T/(lm**2 * lw**2)\n",
    "    elif lw < ε and lm > ε and beta < ε:\n",
    "        case = 1 \n",
    "        G = -1/lv**2 * v @ v.T @ D - 1/lm**2 * m @ n.T\n",
    "    elif lw < ε and beta > ε:\n",
    "        case = 2\n",
    "        G = 1/beta * m @ v.T @ D - beta/(lv**2 * lm**2 + np.abs(beta)**2) * ( lv**2/beta * m + v  ) @ (lm**2/beta* D.T @ v + n ).T\n",
    "    elif lw > ε and lm < ε and beta < ε:\n",
    "        case = 3\n",
    "        G = -1/ln**2 * D @ n @ n.T - 1/lw**2 * v @ w.T\n",
    "    elif lm < ε and beta > ε:\n",
    "        case = 4 \n",
    "        G = 1/beta * D @ n @ w.T - beta/(ln**2 * lw**2 + np.abs(beta)**2) * ( lw**2/beta * D @n + v  ) @ (ln**2/beta*w + n ).T\n",
    "    elif lw < ε and lm < ε and beta < ε:\n",
    "        case = 5\n",
    "        G = -1/lv**2 * v @ v.T @ D - 1/ln**2 * D @ n @ n.T + (v.T @ D @ n)/(lv**2 * ln**2) * v @ n.T \n",
    "    else:\n",
    "        # look in the matrix cookbook section 3.7.2\n",
    "        raise NotImplementedError()\n",
    "        \n",
    "        \n",
    "    return D + G, np.array([lw, lm, beta]), case\n",
    "\n",
    "\n",
    "def regress_online_pinv(X, y, m=50, forgetting_factor=1, log_extra=True, **kwargs):\n",
    "    logger = dict(d_hist=[], c_hist=[], w_hist=[], pred_hist=[], i_hist=[], d_recal_hist=[], pred_recal_hist=[], pred_lstsq_hist=[], diagnostics=[], f_hist=[], case=[])\n",
    "    start = time.time()\n",
    "    \n",
    "    c = X[:m].T @ y[:m]\n",
    "    F = X[:m].T @ X[:m]\n",
    "    D = np.linalg.pinv(F)\n",
    "    for i in (np.arange(0,X.shape[0])):\n",
    "        if i >= m:\n",
    "            # get most recent timepoint\n",
    "            x = X[i:i+1,:].T\n",
    "            # x += rng.normal(scale = 1e-5, size=x.shape)\n",
    "\n",
    "            # modify by forgetting factors\n",
    "            D = D / forgetting_factor \n",
    "            c = c * forgetting_factor\n",
    "            F = F * forgetting_factor\n",
    "            \n",
    "            # update c and D\n",
    "            D, diagnostics, case = mpi_rank1_update(D, F, x)\n",
    "            c = c  + x * y[i]\n",
    "            F = F + x @ x.T\n",
    "            \n",
    "            \n",
    "            # logging\n",
    "            \n",
    "            logger['case'].append(case)\n",
    "            logger['i_hist'].append(i)\n",
    "            \n",
    "            w = D @ c\n",
    "            \n",
    "            logger['pred_hist'].append(X[i,:]@ D @ c)\n",
    "            \n",
    "            if log_extra:\n",
    "                logger['w_hist'].append(w)\n",
    "                logger['diagnostics'].append(diagnostics)\n",
    "                logger['d_hist'].append(D)\n",
    "                logger['c_hist'].append(c)\n",
    "                logger['f_hist'].append(F)\n",
    "                logger['d_recal_hist'].append(np.linalg.inv(F))\n",
    "                logger['pred_recal_hist'].append(X[i,:] @ np.linalg.pinv(F) @ c)\n",
    "                logger['pred_lstsq_hist'].append(X[i,:] @ np.linalg.lstsq(F, c, rcond=None)[0])\n",
    "    end = time.time()\n",
    "    for key in logger:\n",
    "        logger[key] = np.squeeze(logger[key])\n",
    "    logger['time'] = end-start\n",
    "    logger['y_hist'] = y[logger['i_hist']]\n",
    "    return logger"
   ]
  },
  {
   "cell_type": "code",
   "execution_count": 281,
   "id": "e674bd93-cf56-4895-a8c5-1b959fceb83f",
   "metadata": {
    "jupyter": {
     "source_hidden": true
    },
    "tags": []
   },
   "outputs": [],
   "source": [
    "def mpi_rank1_oracular_update(D,F,x):\n",
    "    beta = (1 + x.T @ D @ x)[0,0]\n",
    "    v = D @ x\n",
    "    n = D.T @ x\n",
    "    w = (np.eye(D.shape[0]) - F @ D) @ x\n",
    "    m = (np.eye(D.shape[0]) - D @ F).T @ x\n",
    "\n",
    "    lw = np.linalg.norm(w)\n",
    "    lm = np.linalg.norm(m)\n",
    "    lv = np.linalg.norm(v)\n",
    "    ln = np.linalg.norm(n)\n",
    "\n",
    "    gs = []\n",
    "    gs.append(-1 * v @ w.T/(lw**2)  - m @ n.T/(lm**2) + beta * m @ w.T/(lm**2 * lw**2))\n",
    "    gs.append(-1/lv**2 * v @ v.T @ D - 1/lm**2 * m @ n.T)\n",
    "    gs.append(1/beta * m @ v.T @ D - beta/(lv**2 * lm**2 + np.abs(beta)**2) * ( lv**2/beta * m + v  ) @ (lm**2/beta* D.T @ v + n ).T)\n",
    "    gs.append(-1/ln**2 * D @ n @ n.T - 1/lw**2 * v @ w.T)\n",
    "    gs.append(1/beta * D @ n @ w.T - beta/(ln**2 * lw**2 + np.abs(beta)**2) * ( lw**2/beta * D @n + v  ) @ (ln**2/beta*w + n ).T)\n",
    "    gs.append(-1/lv**2 * v @ v.T @ D - 1/ln**2 * D @ n @ n.T + (v.T @ D @ n)/(lv**2 * ln**2) * v @ n.T)\n",
    "    \n",
    "    return np.array(gs), np.array([lw, lm, beta])\n",
    "\n",
    "\n",
    "def regress_online_pinv_oracle(X, y, m=50, forgetting_factor=1, log_extra=True, **kwargs):\n",
    "    logger = dict(d_hist=[], c_hist=[], w_hist=[], pred_hist=[], i_hist=[], d_recal_hist=[], pred_recal_hist=[], pred_lstsq_hist=[], diagnostics=[], f_hist=[], choices=[])\n",
    "    start = time.time()\n",
    "    \n",
    "    c = X[:m].T @ y[:m]\n",
    "    F = X[:m].T @ X[:m]\n",
    "    D = np.linalg.pinv(F)\n",
    "    for i in (np.arange(0,X.shape[0])):\n",
    "        if i >= m:\n",
    "            # get most recent timepoint\n",
    "            x = X[i:i+1,:].T\n",
    "            # x += rng.normal(scale = 1e-10, size=x.shape)\n",
    "\n",
    "            # modify by forgetting factors\n",
    "            D = D / forgetting_factor \n",
    "            c = c * forgetting_factor\n",
    "            F = F * forgetting_factor\n",
    "            \n",
    "            # update c and D\n",
    "            gs, diagnostics = mpi_rank1_oracular_update(D, F, x)\n",
    "            \n",
    "            D_pinv = np.linalg.pinv(F)\n",
    "            \n",
    "            errors = (((D + gs) - D_pinv)**2).sum(axis=1).sum(axis=1)\n",
    "            choice = np.argmin(errors)\n",
    "            D = D + gs[choice,:,:]\n",
    "            \n",
    "            c = c  + x * y[i]\n",
    "            F = F + x @ x.T\n",
    "            \n",
    "            \n",
    "            # logging\n",
    "            logger['choices'].append(choice)\n",
    "            logger['i_hist'].append(i)\n",
    "            w = D @ c\n",
    "            \n",
    "            logger['pred_hist'].append(X[i,:]@ D @ c)\n",
    "            \n",
    "            if log_extra:\n",
    "                logger['w_hist'].append(w)\n",
    "                logger['diagnostics'].append(diagnostics)\n",
    "\n",
    "                logger['d_hist'].append(D)\n",
    "                logger['c_hist'].append(c)\n",
    "                logger['f_hist'].append(F)\n",
    "                logger['d_recal_hist'].append(np.linalg.pinv(F))\n",
    "\n",
    "\n",
    "                logger['pred_recal_hist'].append(X[i,:] @ D_pinv @ c)\n",
    "                logger['pred_lstsq_hist'].append(X[i,:] @ np.linalg.lstsq(F, c, rcond=None)[0])\n",
    "    end = time.time()\n",
    "    for key in logger:\n",
    "        logger[key] = np.squeeze(logger[key])\n",
    "    logger['time'] = end-start\n",
    "    logger['y_hist'] = y[logger['i_hist']]\n",
    "    return logger"
   ]
  },
  {
   "cell_type": "code",
   "execution_count": 482,
   "id": "6437f7b1-3daa-4dec-b7c1-85e9d421a543",
   "metadata": {},
   "outputs": [],
   "source": [
    "def make_easier_xy(**kwargs):\n",
    "    \n",
    "    m = 5000\n",
    "    n = 5\n",
    "    \n",
    "    w = np.array([0, 0, 0, 1, 0]).reshape((-1,1))\n",
    "    \n",
    "    X = np.zeros(shape=(m,n))\n",
    "    y = np.zeros(shape=(m,1))\n",
    "    for i in range(m):\n",
    "        X[i,:] = rng.normal(size=5)\n",
    "    y = X @ w + rng.normal(size=(X.shape[0],1))\n",
    "    \n",
    "    X = np.hstack([X, X])\n",
    "    \n",
    "    return X, y"
   ]
  },
  {
   "cell_type": "code",
   "execution_count": 480,
   "id": "46342632-f55b-42f8-be52-c858b6e08fb2",
   "metadata": {},
   "outputs": [
    {
     "name": "stderr",
     "output_type": "stream",
     "text": [
      "100%|█████████████████████████████████████████████| 2/2 [00:13<00:00,  6.75s/it]\n"
     ]
    }
   ],
   "source": [
    "uninteresting_params = dict(\n",
    "    x_max_height=False, \n",
    "    y_true_alignment=True, \n",
    "    y_tile_invert=True, \n",
    "    zscore_x=False,\n",
    "    m=100,\n",
    "    xy_tiles=1,\n",
    ")\n",
    "params = dict(uninteresting_params,\n",
    "    fit_intercept=True, \n",
    "    keep_dead_nodes=True,\n",
    "    forgetting_factor=.98,\n",
    "    log_extra=False,\n",
    "    noise_scale=1e-5,\n",
    "    window_length=50\n",
    ")\n",
    "\n",
    "\n",
    "functions = [\n",
    "    # regress_online_dirty,\n",
    "    regress_online_dirty_symmetric,\n",
    "    regress_online_window,\n",
    "    # regress_online_more,\n",
    "    # regress_online_more_eecs_paper,\n",
    "    # regress_online_pinv,\n",
    "    # regress_online_pinv_oracle,\n",
    "    \n",
    "]\n",
    "\n",
    "X, y = make_xy(**params)\n",
    "errs = []\n",
    "logs = []\n",
    "for f in tqdm(functions):\n",
    "    log = f(X,y, **params)\n",
    "    logs.append(log)\n",
    "    err = log['pred_hist'] - log['y_hist'][:,0]\n",
    "    sqe = (err**2).sum()\n",
    "    errs.append(err)\n"
   ]
  },
  {
   "cell_type": "code",
   "execution_count": 481,
   "id": "d05c94df-40ce-4fed-9964-2c3d7f308338",
   "metadata": {},
   "outputs": [],
   "source": [
    "%matplotlib qt\n",
    "for e in errs:\n",
    "    plt.plot(e)"
   ]
  },
  {
   "cell_type": "code",
   "execution_count": 477,
   "id": "9776ac29-918b-4cba-bb70-16a46874dc9b",
   "metadata": {},
   "outputs": [],
   "source": [
    "%matplotlib qt\n",
    "for e in errs:\n",
    "    plt.hist(e, bins=np.linspace(-.06,.06,100), histtype='step')"
   ]
  },
  {
   "cell_type": "code",
   "execution_count": 471,
   "id": "8304b05a-235e-4cf5-92ef-29b17d7f6fea",
   "metadata": {},
   "outputs": [
    {
     "data": {
      "text/plain": [
       "[<matplotlib.lines.Line2D at 0x7f3468822dc0>]"
      ]
     },
     "execution_count": 471,
     "metadata": {},
     "output_type": "execute_result"
    }
   ],
   "source": [
    "%matplotlib qt\n",
    "plt.plot([(e**2).mean() for e in errs])"
   ]
  },
  {
   "cell_type": "code",
   "execution_count": 473,
   "id": "643d3ce4-4a2c-4a6d-ad2a-059fcd02d35e",
   "metadata": {},
   "outputs": [
    {
     "data": {
      "text/plain": [
       "[<matplotlib.lines.Line2D at 0x7f346968b9a0>]"
      ]
     },
     "execution_count": 473,
     "metadata": {},
     "output_type": "execute_result"
    }
   ],
   "source": [
    "j = 0\n",
    "plt.plot(logs[j]['y_hist'])\n",
    "plt.plot(logs[j]['pred_hist'])\n"
   ]
  },
  {
   "cell_type": "markdown",
   "id": "f41208c6-8b2d-43a7-8df8-a652ea0b93c0",
   "metadata": {},
   "source": [
    "### Old Comparisons "
   ]
  },
  {
   "cell_type": "code",
   "execution_count": 394,
   "id": "2d449854-60d9-49a4-a38b-5b3dc6b464ec",
   "metadata": {
    "tags": []
   },
   "outputs": [],
   "source": [
    "uninteresting_params = dict(\n",
    "    x_max_height=False, \n",
    "    y_true_alignment=False, \n",
    "    y_tile_invert=True, \n",
    "    zscore_x=False,\n",
    "    m=100,\n",
    "    xy_tiles=1,\n",
    ")\n",
    "\n",
    "def do_run(params):\n",
    "    X, y = make_xy(**params)\n",
    "    # log = regress_online_more(X,y, **params)\n",
    "    # log = regress_online_more_eecs_paper(X,y, **params)\n",
    "    # log = regress_online_pinv_oracle(X,y, **params)\n",
    "    # log = regress_online_window(X,y, **params)\n",
    "    log = regress_online_dirty(X,y, **params)\n",
    "    log['error'] = log['pred_hist'] - log['y_hist']\n",
    "    log['sqe'] = (log['error']**2).sum()\n",
    "    return log\n",
    "\n",
    "params1 = dict(uninteresting_params,\n",
    "    fit_intercept=True, \n",
    "    keep_dead_nodes=True,\n",
    "    forgetting_factor=1,\n",
    "    log_extra=False,\n",
    "\n",
    ")\n",
    "\n",
    "params2 = dict(params1, forgetting_factor=1)\n",
    "\n",
    "log1 = do_run(params1)\n",
    "log2 = do_run(params2)"
   ]
  },
  {
   "cell_type": "code",
   "execution_count": null,
   "id": "531460dc-de11-4da1-aa83-fb49a616f928",
   "metadata": {
    "tags": []
   },
   "outputs": [],
   "source": [
    "def make_label(params):\n",
    "    return f\"+b? {int(params['fit_intercept'])}, ☠? {int(params['keep_dead_nodes'])}, f.f.={params['forgetting_factor']}\""
   ]
  },
  {
   "cell_type": "code",
   "execution_count": 165,
   "id": "807a2e0b-d4cb-4c4a-a3a7-ad5bf1531bc2",
   "metadata": {},
   "outputs": [
    {
     "data": {
      "image/png": "[encoded data removed]",
      "text/plain": [
       "<Figure size 640x480 with 1 Axes>"
      ]
     },
     "metadata": {},
     "output_type": "display_data"
    }
   ],
   "source": [
    "# compare log1 and log2\n",
    "# plt.plot(log1['y_hist'], label='true y')\n",
    "plt.plot(log1['pred_hist'] - np.squeeze(log1['y_hist']), label=make_label(params1))\n",
    "# plt.plot(log2['pred_hist'] - np.squeeze(log2['y_hist']), label=make_label(params2))\n",
    "plt.xlabel(\"timestep\");\n",
    "plt.ylabel(\"behavior value\");\n",
    "plt.legend();\n"
   ]
  },
  {
   "cell_type": "code",
   "execution_count": 143,
   "id": "5cd89b5b-3ed0-4dbf-a24e-ba7799101808",
   "metadata": {},
   "outputs": [
    {
     "data": {
      "image/png": "[encoded data removed]",
      "text/plain": [
       "<Figure size 640x480 with 1 Axes>"
      ]
     },
     "metadata": {},
     "output_type": "display_data"
    }
   ],
   "source": [
    "# compare log1 and log2\n",
    "plt.plot(log1['y_hist'], label='true y')\n",
    "plt.plot(log1['pred_hist'], label=make_label(params1))\n",
    "plt.plot(log2['pred_hist'], label=make_label(params2))\n",
    "plt.xlabel(\"timestep\");\n",
    "plt.ylabel(\"behavior value\");\n",
    "plt.ylim([-10,10])\n",
    "plt.legend();"
   ]
  },
  {
   "cell_type": "code",
   "execution_count": 73,
   "id": "1a8fabc2-16b6-4c72-b148-ec27df01033c",
   "metadata": {},
   "outputs": [
    {
     "data": {
      "image/png": "[encoded data removed]",
      "text/plain": [
       "<Figure size 640x480 with 1 Axes>"
      ]
     },
     "metadata": {},
     "output_type": "display_data"
    }
   ],
   "source": [
    "# compare pred_hist and pred_recal_list\n",
    "plt.plot(log2['y_hist'], label='true y')\n",
    "plt.plot(log2['pred_hist'], label=\"iterative\")\n",
    "plt.plot(log2['pred_recal_hist'], label=\"np.linalg.pinv\")\n",
    "plt.plot(log2['pred_lstsq_hist'], label=\"np.linalg.lstsq\")\n",
    "plt.xlabel(\"timestep\");\n",
    "plt.ylabel(\"behavior value\");\n",
    "plt.ylim([-10,10])\n",
    "plt.title(make_label(params2))\n",
    "plt.legend();"
   ]
  },
  {
   "cell_type": "code",
   "execution_count": 109,
   "id": "56204268-96eb-4275-9e4d-bd115c10af36",
   "metadata": {},
   "outputs": [
    {
     "name": "stderr",
     "output_type": "stream",
     "text": [
      "/tmp/ipykernel_42093/3844783392.py:3: RuntimeWarning: overflow encountered in square\n",
      "  errors = ((log2['d_hist'] - log2['d_recal_hist'])**2).sum(axis=0)\n",
      "/home/jgould/miniconda3/envs/bubblewrap/lib/python3.9/site-packages/numpy/core/_methods.py:48: RuntimeWarning: overflow encountered in reduce\n",
      "  return umr_sum(a, axis, dtype, out, keepdims, initial, where)\n"
     ]
    },
    {
     "data": {
      "text/plain": [
       "<matplotlib.legend.Legend at 0x7f065cfbdfd0>"
      ]
     },
     "execution_count": 109,
     "metadata": {},
     "output_type": "execute_result"
    }
   ],
   "source": [
    "a,b = 0,0\n",
    "\n",
    "errors = ((log2['d_hist'] - log2['d_recal_hist'])**2).sum(axis=0)\n",
    "a,b = np.unravel_index(errors.argmax(), errors.shape)\n",
    "\n",
    "plt.plot(log2['d_hist'][:,0,0], label=\"iterative\");\n",
    "plt.plot(log2['d_recal_hist'][:,0,0], label=\"np.linalg.inv\");\n",
    "\n",
    "plt.title(f\"D[{a},{b}];  \" + make_label(params2))\n",
    "\n",
    "plt.legend()"
   ]
  },
  {
   "cell_type": "code",
   "execution_count": 110,
   "id": "3aa42f52-2224-4622-99a7-71a59996ac20",
   "metadata": {},
   "outputs": [
    {
     "ename": "KeyError",
     "evalue": "'diagnostics'",
     "output_type": "error",
     "traceback": [
      "\u001b[0;31m---------------------------------------------------------------------------\u001b[0m",
      "\u001b[0;31mKeyError\u001b[0m                                  Traceback (most recent call last)",
      "Cell \u001b[0;32mIn[110], line 1\u001b[0m\n\u001b[0;32m----> 1\u001b[0m plt\u001b[38;5;241m.\u001b[39mplot(np\u001b[38;5;241m.\u001b[39mlog10(\u001b[43mlog2\u001b[49m\u001b[43m[\u001b[49m\u001b[38;5;124;43m'\u001b[39;49m\u001b[38;5;124;43mdiagnostics\u001b[39;49m\u001b[38;5;124;43m'\u001b[39;49m\u001b[43m]\u001b[49m))\n",
      "\u001b[0;31mKeyError\u001b[0m: 'diagnostics'"
     ]
    }
   ],
   "source": [
    "plt.plot(np.log10(log2['diagnostics']))"
   ]
  },
  {
   "cell_type": "code",
   "execution_count": null,
   "id": "bdd60cd3-d36a-4719-8476-2e2abb3752a7",
   "metadata": {},
   "outputs": [],
   "source": [
    "plt.plot(log2['choices'],'.')"
   ]
  },
  {
   "cell_type": "code",
   "execution_count": 111,
   "id": "672d61b3-cc6d-4324-96f5-d2d827c6b779",
   "metadata": {},
   "outputs": [],
   "source": [
    "fig, axs = plt.subplots(nrows=2, ncols=1, sharex=True)\n",
    "\n",
    "uppers = np.max(np.abs(log2['d_hist']), axis=(1,2))\n",
    "lowers = np.min(np.abs(log2['d_hist']), axis=(1,2))\n",
    "axs[0].plot(np.log10(uppers), label='upper limit')\n",
    "axs[0].plot(np.log10(lowers),  label='lower limit')\n",
    "axs[0].set_xlabel(\"timestep\")\n",
    "axs[0].set_ylabel(\"log10 $\\mid D\\mid $bounds (streaming)\")\n",
    "axs[0].legend()\n",
    "\n",
    "\n",
    "uppers = np.max(np.abs(log2['d_recal_hist']), axis=(1,2))\n",
    "lowers = np.min(np.abs(log2['d_recal_hist']), axis=(1,2))\n",
    "axs[1].plot(np.log10(uppers))\n",
    "axs[1].plot(np.log10(lowers))\n",
    "axs[1].set_xlabel(\"timestep\")\n",
    "axs[1].set_ylabel(\"log10 $\\mid D\\mid $bounds (pinv)\")\n",
    "\n",
    "\n",
    "axs[0].set_title(make_label(params2));"
   ]
  },
  {
   "cell_type": "code",
   "execution_count": 113,
   "id": "374b61cf-e8b6-4003-a756-16cd72a1e119",
   "metadata": {},
   "outputs": [
    {
     "ename": "KeyError",
     "evalue": "'w_recal_hist'",
     "output_type": "error",
     "traceback": [
      "\u001b[0;31m---------------------------------------------------------------------------\u001b[0m",
      "\u001b[0;31mKeyError\u001b[0m                                  Traceback (most recent call last)",
      "Cell \u001b[0;32mIn[113], line 12\u001b[0m\n\u001b[1;32m      8\u001b[0m axs[\u001b[38;5;241m0\u001b[39m]\u001b[38;5;241m.\u001b[39mset_ylabel(\u001b[38;5;124m\"\u001b[39m\u001b[38;5;124mlog10 $\u001b[39m\u001b[38;5;124m\\\u001b[39m\u001b[38;5;124mmid D\u001b[39m\u001b[38;5;124m\\\u001b[39m\u001b[38;5;124mmid $bounds (streaming)\u001b[39m\u001b[38;5;124m\"\u001b[39m)\n\u001b[1;32m      9\u001b[0m axs[\u001b[38;5;241m0\u001b[39m]\u001b[38;5;241m.\u001b[39mlegend()\n\u001b[0;32m---> 12\u001b[0m uppers \u001b[38;5;241m=\u001b[39m np\u001b[38;5;241m.\u001b[39mmax(np\u001b[38;5;241m.\u001b[39mabs(\u001b[43mlog2\u001b[49m\u001b[43m[\u001b[49m\u001b[38;5;124;43m'\u001b[39;49m\u001b[38;5;124;43mw_recal_hist\u001b[39;49m\u001b[38;5;124;43m'\u001b[39;49m\u001b[43m]\u001b[49m), axis\u001b[38;5;241m=\u001b[39m(\u001b[38;5;241m1\u001b[39m))\n\u001b[1;32m     13\u001b[0m lowers \u001b[38;5;241m=\u001b[39m np\u001b[38;5;241m.\u001b[39mmin(np\u001b[38;5;241m.\u001b[39mabs(log2[\u001b[38;5;124m'\u001b[39m\u001b[38;5;124mw_recal_hist\u001b[39m\u001b[38;5;124m'\u001b[39m]), axis\u001b[38;5;241m=\u001b[39m(\u001b[38;5;241m1\u001b[39m))\n\u001b[1;32m     14\u001b[0m axs[\u001b[38;5;241m1\u001b[39m]\u001b[38;5;241m.\u001b[39mplot(np\u001b[38;5;241m.\u001b[39mlog10(uppers))\n",
      "\u001b[0;31mKeyError\u001b[0m: 'w_recal_hist'"
     ]
    }
   ],
   "source": [
    "fig, axs = plt.subplots(nrows=2, ncols=1, sharex=True)\n",
    "\n",
    "uppers = np.max(np.abs(log2['w_hist']), axis=(1))\n",
    "lowers = np.min(np.abs(log2['w_hist']), axis=(1))\n",
    "axs[0].plot(np.log10(uppers), label='upper limit')\n",
    "axs[0].plot(np.log10(lowers),  label='lower limit')\n",
    "axs[0].set_xlabel(\"timestep\")\n",
    "axs[0].set_ylabel(\"log10 $\\mid D\\mid $bounds (streaming)\")\n",
    "axs[0].legend()\n",
    "\n",
    "\n",
    "uppers = np.max(np.abs(log2['w_recal_hist']), axis=(1))\n",
    "lowers = np.min(np.abs(log2['w_recal_hist']), axis=(1))\n",
    "axs[1].plot(np.log10(uppers))\n",
    "axs[1].plot(np.log10(lowers))\n",
    "axs[1].set_xlabel(\"timestep\")\n",
    "axs[1].set_ylabel(\"log10 $\\mid D\\mid $bounds (pinv)\")\n",
    "\n",
    "\n",
    "axs[0].set_title(make_label(params2));"
   ]
  },
  {
   "cell_type": "code",
   "execution_count": 68,
   "id": "6b6b24c6-3446-435c-9c93-6112c34f179e",
   "metadata": {},
   "outputs": [
    {
     "data": {
      "text/html": [
       "<div>\n",
       "<style scoped>\n",
       "    .dataframe tbody tr th:only-of-type {\n",
       "        vertical-align: middle;\n",
       "    }\n",
       "\n",
       "    .dataframe tbody tr th {\n",
       "        vertical-align: top;\n",
       "    }\n",
       "\n",
       "    .dataframe thead th {\n",
       "        text-align: right;\n",
       "    }\n",
       "</style>\n",
       "<table border=\"1\" class=\"dataframe\">\n",
       "  <thead>\n",
       "    <tr style=\"text-align: right;\">\n",
       "      <th></th>\n",
       "      <th>intercept</th>\n",
       "      <th>dead_nodes</th>\n",
       "      <th>condition_number</th>\n",
       "    </tr>\n",
       "  </thead>\n",
       "  <tbody>\n",
       "    <tr>\n",
       "      <th>0</th>\n",
       "      <td>False</td>\n",
       "      <td>False</td>\n",
       "      <td>1.003606e+00</td>\n",
       "    </tr>\n",
       "    <tr>\n",
       "      <th>1</th>\n",
       "      <td>True</td>\n",
       "      <td>False</td>\n",
       "      <td>1.396301e+05</td>\n",
       "    </tr>\n",
       "    <tr>\n",
       "      <th>2</th>\n",
       "      <td>False</td>\n",
       "      <td>True</td>\n",
       "      <td>4.225899e+16</td>\n",
       "    </tr>\n",
       "    <tr>\n",
       "      <th>3</th>\n",
       "      <td>True</td>\n",
       "      <td>True</td>\n",
       "      <td>1.266425e+17</td>\n",
       "    </tr>\n",
       "  </tbody>\n",
       "</table>\n",
       "</div>"
      ],
      "text/plain": [
       "   intercept  dead_nodes  condition_number\n",
       "0      False       False      1.003606e+00\n",
       "1       True       False      1.396301e+05\n",
       "2      False        True      4.225899e+16\n",
       "3       True        True      1.266425e+17"
      ]
     },
     "execution_count": 68,
     "metadata": {},
     "output_type": "execute_result"
    }
   ],
   "source": [
    "df = []\n",
    "\n",
    "for d in [False, True]:\n",
    "    for i in [False,True]:\n",
    "        X,y = make_xy(fit_intercept=i, keep_dead_nodes=d)\n",
    "        df.append(dict(intercept=i, dead_nodes=d, condition_number=np.linalg.cond(X)))\n",
    "df = pd.DataFrame(df)\n",
    "df"
   ]
  },
  {
   "cell_type": "markdown",
   "id": "dfc9d99a-2c50-4e63-bb7d-06aaeedec975",
   "metadata": {},
   "source": [
    ")compare ws across runs over time"
   ]
  },
  {
   "cell_type": "markdown",
   "id": "91fa7c20-b2b7-4a47-823f-fbf0c8251937",
   "metadata": {},
   "source": [
    "compare online predictions across time"
   ]
  },
  {
   "cell_type": "markdown",
   "id": "5fc51bdf-3183-4176-8ca6-e695ead2d0e3",
   "metadata": {},
   "source": [
    "inspect d's entries across time"
   ]
  },
  {
   "cell_type": "code",
   "execution_count": 48,
   "id": "ab492082-59dc-4a27-9b22-cf5dff3cc40d",
   "metadata": {},
   "outputs": [
    {
     "name": "stdout",
     "output_type": "stream",
     "text": [
      "{'fit_intercept': False, 'keep_dead_nodes': False, 'forgetting_factor': 1}\n",
      "{'fit_intercept': False, 'keep_dead_nodes': False, 'forgetting_factor': 0.9999999999}\n",
      "{'fit_intercept': False, 'keep_dead_nodes': False, 'forgetting_factor': 0.999}\n"
     ]
    },
    {
     "name": "stderr",
     "output_type": "stream",
     "text": [
      "/tmp/ipykernel_6469/297464630.py:24: RuntimeWarning: overflow encountered in subtract\n",
      "  D = (1/forgetting_factor) * D - (1/forgetting_factor) * alpha * g @ g.T\n",
      "/tmp/ipykernel_6469/297464630.py:24: RuntimeWarning: invalid value encountered in multiply\n",
      "  D = (1/forgetting_factor) * D - (1/forgetting_factor) * alpha * g @ g.T\n",
      "/tmp/ipykernel_6469/297464630.py:24: RuntimeWarning: invalid value encountered in matmul\n",
      "  D = (1/forgetting_factor) * D - (1/forgetting_factor) * alpha * g @ g.T\n",
      "/tmp/ipykernel_6469/297464630.py:25: RuntimeWarning: invalid value encountered in multiply\n",
      "  w = w + alpha * g * e\n"
     ]
    },
    {
     "name": "stdout",
     "output_type": "stream",
     "text": [
      "{'fit_intercept': False, 'keep_dead_nodes': False, 'forgetting_factor': 0.99}\n",
      "{'fit_intercept': False, 'keep_dead_nodes': False, 'forgetting_factor': 0.9}\n",
      "{'fit_intercept': True, 'keep_dead_nodes': False, 'forgetting_factor': 1}\n",
      "{'fit_intercept': True, 'keep_dead_nodes': False, 'forgetting_factor': 0.9999999999}\n",
      "{'fit_intercept': True, 'keep_dead_nodes': False, 'forgetting_factor': 0.999}\n",
      "{'fit_intercept': True, 'keep_dead_nodes': False, 'forgetting_factor': 0.99}\n"
     ]
    },
    {
     "name": "stderr",
     "output_type": "stream",
     "text": [
      "/tmp/ipykernel_6469/297464630.py:24: RuntimeWarning: overflow encountered in multiply\n",
      "  D = (1/forgetting_factor) * D - (1/forgetting_factor) * alpha * g @ g.T\n",
      "/tmp/ipykernel_6469/297464630.py:16: RuntimeWarning: invalid value encountered in matmul\n",
      "  g = D @ x\n"
     ]
    },
    {
     "name": "stdout",
     "output_type": "stream",
     "text": [
      "{'fit_intercept': True, 'keep_dead_nodes': False, 'forgetting_factor': 0.9}\n",
      "{'fit_intercept': False, 'keep_dead_nodes': True, 'forgetting_factor': 1}\n",
      "{'fit_intercept': False, 'keep_dead_nodes': True, 'forgetting_factor': 0.9999999999}\n",
      "{'fit_intercept': False, 'keep_dead_nodes': True, 'forgetting_factor': 0.999}\n"
     ]
    },
    {
     "name": "stderr",
     "output_type": "stream",
     "text": [
      "/tmp/ipykernel_6469/297464630.py:24: RuntimeWarning: overflow encountered in matmul\n",
      "  D = (1/forgetting_factor) * D - (1/forgetting_factor) * alpha * g @ g.T\n"
     ]
    },
    {
     "name": "stdout",
     "output_type": "stream",
     "text": [
      "{'fit_intercept': False, 'keep_dead_nodes': True, 'forgetting_factor': 0.99}\n",
      "{'fit_intercept': False, 'keep_dead_nodes': True, 'forgetting_factor': 0.9}\n"
     ]
    },
    {
     "ename": "KeyboardInterrupt",
     "evalue": "",
     "output_type": "error",
     "traceback": [
      "\u001b[0;31m---------------------------------------------------------------------------\u001b[0m",
      "\u001b[0;31mKeyboardInterrupt\u001b[0m                         Traceback (most recent call last)",
      "Cell \u001b[0;32mIn[48], line 10\u001b[0m\n\u001b[1;32m      8\u001b[0m X, y \u001b[38;5;241m=\u001b[39m make_xy(\u001b[38;5;241m*\u001b[39m\u001b[38;5;241m*\u001b[39mparams)\n\u001b[1;32m      9\u001b[0m \u001b[38;5;66;03m# log = regress_online_more(X,y, **params)\u001b[39;00m\n\u001b[0;32m---> 10\u001b[0m log \u001b[38;5;241m=\u001b[39m \u001b[43mregress_online_more_eecs_paper\u001b[49m\u001b[43m(\u001b[49m\u001b[43mX\u001b[49m\u001b[43m,\u001b[49m\u001b[43my\u001b[49m\u001b[43m,\u001b[49m\u001b[43m \u001b[49m\u001b[38;5;241;43m*\u001b[39;49m\u001b[38;5;241;43m*\u001b[39;49m\u001b[43mparams\u001b[49m\u001b[43m)\u001b[49m\n\u001b[1;32m     11\u001b[0m \u001b[38;5;66;03m# log = regress_online_pinv_oracle(X,y, **params)\u001b[39;00m\n\u001b[1;32m     12\u001b[0m \u001b[38;5;66;03m# log = regress_online_pinv(X,y, **params)\u001b[39;00m\n\u001b[1;32m     13\u001b[0m \u001b[38;5;66;03m# log = regress_online_window(X,y, **params)\u001b[39;00m\n\u001b[1;32m     14\u001b[0m \u001b[38;5;66;03m# log = regress_online_dirty(X,y, **params)\u001b[39;00m\n\u001b[1;32m     15\u001b[0m log[\u001b[38;5;124m'\u001b[39m\u001b[38;5;124merror\u001b[39m\u001b[38;5;124m'\u001b[39m] \u001b[38;5;241m=\u001b[39m log[\u001b[38;5;124m'\u001b[39m\u001b[38;5;124mpred_hist\u001b[39m\u001b[38;5;124m'\u001b[39m] \u001b[38;5;241m-\u001b[39m log[\u001b[38;5;124m'\u001b[39m\u001b[38;5;124my_hist\u001b[39m\u001b[38;5;124m'\u001b[39m]\u001b[38;5;241m.\u001b[39mreshape([\u001b[38;5;241m-\u001b[39m\u001b[38;5;241m1\u001b[39m,])\n",
      "Cell \u001b[0;32mIn[43], line 24\u001b[0m, in \u001b[0;36mregress_online_more_eecs_paper\u001b[0;34m(X, y, m, forgetting_factor, **kwargs)\u001b[0m\n\u001b[1;32m     18\u001b[0m e \u001b[38;5;241m=\u001b[39m y[i] \u001b[38;5;241m-\u001b[39m np\u001b[38;5;241m.\u001b[39msqueeze(w\u001b[38;5;241m.\u001b[39mT \u001b[38;5;241m@\u001b[39m x)\n\u001b[1;32m     23\u001b[0m \u001b[38;5;66;03m# update c and D\u001b[39;00m\n\u001b[0;32m---> 24\u001b[0m D \u001b[38;5;241m=\u001b[39m (\u001b[38;5;241m1\u001b[39m\u001b[38;5;241m/\u001b[39mforgetting_factor) \u001b[38;5;241m*\u001b[39m D \u001b[38;5;241m-\u001b[39m \u001b[43m(\u001b[49m\u001b[38;5;241;43m1\u001b[39;49m\u001b[38;5;241;43m/\u001b[39;49m\u001b[43mforgetting_factor\u001b[49m\u001b[43m)\u001b[49m\u001b[43m \u001b[49m\u001b[38;5;241;43m*\u001b[39;49m\u001b[43m \u001b[49m\u001b[43malpha\u001b[49m\u001b[43m \u001b[49m\u001b[38;5;241;43m*\u001b[39;49m\u001b[43m \u001b[49m\u001b[43mg\u001b[49m\u001b[43m \u001b[49m\u001b[38;5;241;43m@\u001b[39;49m\u001b[43m \u001b[49m\u001b[43mg\u001b[49m\u001b[38;5;241;43m.\u001b[39;49m\u001b[43mT\u001b[49m\n\u001b[1;32m     25\u001b[0m w \u001b[38;5;241m=\u001b[39m w \u001b[38;5;241m+\u001b[39m alpha \u001b[38;5;241m*\u001b[39m g \u001b[38;5;241m*\u001b[39m e\n\u001b[1;32m     26\u001b[0m c \u001b[38;5;241m=\u001b[39m c  \u001b[38;5;241m+\u001b[39m x \u001b[38;5;241m*\u001b[39m y[i]\n",
      "\u001b[0;31mKeyboardInterrupt\u001b[0m: "
     ]
    }
   ],
   "source": [
    "rows = []\n",
    "for keep_dead_nodes in [False, True]:\n",
    "    for fit_intercept in [False, True]:\n",
    "        for eps in [0, 1e-10, 1e-3, 1e-2, 1e-1]:\n",
    "            interesting_params = dict(fit_intercept=fit_intercept, keep_dead_nodes=keep_dead_nodes, forgetting_factor=1-eps)\n",
    "            params = dict(uninteresting_params,**interesting_params)\n",
    "            \n",
    "            X, y = make_xy(**params)\n",
    "            # log = regress_online_more(X,y, **params)\n",
    "            log = regress_online_more_eecs_paper(X,y, **params)\n",
    "            # log = regress_online_pinv_oracle(X,y, **params)\n",
    "            # log = regress_online_pinv(X,y, **params)\n",
    "            # log = regress_online_window(X,y, **params)\n",
    "            # log = regress_online_dirty(X,y, **params)\n",
    "            log['error'] = log['pred_hist'] - log['y_hist'].reshape([-1,])\n",
    "            log['sqe'] = (log['error']**2).sum()\n",
    "            rows.append(dict(interesting_params,method=\"online_vanilla\",error=log['error']))\n",
    "            print(interesting_params)\n",
    "            # if np.any(np.abs(log['error']) > 30) or np.any(~np.isfinite(log['error'])):\n",
    "            #     raise Exception()\n",
    "            \n",
    "\n"
   ]
  },
  {
   "cell_type": "code",
   "execution_count": 49,
   "id": "925c73b1-aecc-42a4-be8d-e12b63db44aa",
   "metadata": {},
   "outputs": [
    {
     "data": {
      "text/html": [
       "<div>\n",
       "<style scoped>\n",
       "    .dataframe tbody tr th:only-of-type {\n",
       "        vertical-align: middle;\n",
       "    }\n",
       "\n",
       "    .dataframe tbody tr th {\n",
       "        vertical-align: top;\n",
       "    }\n",
       "\n",
       "    .dataframe thead th {\n",
       "        text-align: right;\n",
       "    }\n",
       "</style>\n",
       "<table border=\"1\" class=\"dataframe\">\n",
       "  <thead>\n",
       "    <tr style=\"text-align: right;\">\n",
       "      <th></th>\n",
       "      <th>fit_intercept</th>\n",
       "      <th>keep_dead_nodes</th>\n",
       "      <th>forgetting_factor</th>\n",
       "      <th>method</th>\n",
       "      <th>error</th>\n",
       "      <th>mse</th>\n",
       "    </tr>\n",
       "  </thead>\n",
       "  <tbody>\n",
       "    <tr>\n",
       "      <th>0</th>\n",
       "      <td>False</td>\n",
       "      <td>False</td>\n",
       "      <td>1.000</td>\n",
       "      <td>online_vanilla</td>\n",
       "      <td>[3.758481761373389e-06, 0.00013123682025284467...</td>\n",
       "      <td>1.559859e+01</td>\n",
       "    </tr>\n",
       "    <tr>\n",
       "      <th>1</th>\n",
       "      <td>False</td>\n",
       "      <td>False</td>\n",
       "      <td>1.000</td>\n",
       "      <td>online_vanilla</td>\n",
       "      <td>[-7.163353239914017e-05, 3.263172677581139e-05...</td>\n",
       "      <td>1.559859e+01</td>\n",
       "    </tr>\n",
       "    <tr>\n",
       "      <th>2</th>\n",
       "      <td>False</td>\n",
       "      <td>False</td>\n",
       "      <td>0.999</td>\n",
       "      <td>online_vanilla</td>\n",
       "      <td>[0.00015089210527774455, -2.483193472446743e-0...</td>\n",
       "      <td>1.002318e+03</td>\n",
       "    </tr>\n",
       "    <tr>\n",
       "      <th>3</th>\n",
       "      <td>False</td>\n",
       "      <td>False</td>\n",
       "      <td>0.990</td>\n",
       "      <td>online_vanilla</td>\n",
       "      <td>[-1.6418888135749654e-05, 4.600812358646067e-0...</td>\n",
       "      <td>NaN</td>\n",
       "    </tr>\n",
       "    <tr>\n",
       "      <th>4</th>\n",
       "      <td>False</td>\n",
       "      <td>False</td>\n",
       "      <td>0.900</td>\n",
       "      <td>online_vanilla</td>\n",
       "      <td>[1.0609201213096497e-05, -4.702462959027542e-0...</td>\n",
       "      <td>NaN</td>\n",
       "    </tr>\n",
       "    <tr>\n",
       "      <th>5</th>\n",
       "      <td>True</td>\n",
       "      <td>False</td>\n",
       "      <td>1.000</td>\n",
       "      <td>online_vanilla</td>\n",
       "      <td>[0.0001921817060632769, -7.167923911266527e-05...</td>\n",
       "      <td>1.559810e+01</td>\n",
       "    </tr>\n",
       "    <tr>\n",
       "      <th>6</th>\n",
       "      <td>True</td>\n",
       "      <td>False</td>\n",
       "      <td>1.000</td>\n",
       "      <td>online_vanilla</td>\n",
       "      <td>[9.582639444172258e-05, 0.00018727674054019872...</td>\n",
       "      <td>1.559765e+01</td>\n",
       "    </tr>\n",
       "    <tr>\n",
       "      <th>7</th>\n",
       "      <td>True</td>\n",
       "      <td>False</td>\n",
       "      <td>0.999</td>\n",
       "      <td>online_vanilla</td>\n",
       "      <td>[-6.599540851892627e-05, 8.892832179974164e-06...</td>\n",
       "      <td>2.924349e+05</td>\n",
       "    </tr>\n",
       "    <tr>\n",
       "      <th>8</th>\n",
       "      <td>True</td>\n",
       "      <td>False</td>\n",
       "      <td>0.990</td>\n",
       "      <td>online_vanilla</td>\n",
       "      <td>[1.9944337552146862e-05, 0.0001674907214033183...</td>\n",
       "      <td>9.215743e-08</td>\n",
       "    </tr>\n",
       "    <tr>\n",
       "      <th>9</th>\n",
       "      <td>True</td>\n",
       "      <td>False</td>\n",
       "      <td>0.900</td>\n",
       "      <td>online_vanilla</td>\n",
       "      <td>[6.038646835415662e-05, -3.0838848630310167e-0...</td>\n",
       "      <td>NaN</td>\n",
       "    </tr>\n",
       "    <tr>\n",
       "      <th>10</th>\n",
       "      <td>False</td>\n",
       "      <td>True</td>\n",
       "      <td>1.000</td>\n",
       "      <td>online_vanilla</td>\n",
       "      <td>[-3.027914263231679e-05, -0.000284008248182754...</td>\n",
       "      <td>1.559714e+01</td>\n",
       "    </tr>\n",
       "    <tr>\n",
       "      <th>11</th>\n",
       "      <td>False</td>\n",
       "      <td>True</td>\n",
       "      <td>1.000</td>\n",
       "      <td>online_vanilla</td>\n",
       "      <td>[5.5485452659098655e-05, 0.0002033514899633104...</td>\n",
       "      <td>1.559730e+01</td>\n",
       "    </tr>\n",
       "    <tr>\n",
       "      <th>12</th>\n",
       "      <td>False</td>\n",
       "      <td>True</td>\n",
       "      <td>0.999</td>\n",
       "      <td>online_vanilla</td>\n",
       "      <td>[-0.00014625690690284188, -9.96118208478336e-0...</td>\n",
       "      <td>1.782443e+05</td>\n",
       "    </tr>\n",
       "    <tr>\n",
       "      <th>13</th>\n",
       "      <td>False</td>\n",
       "      <td>True</td>\n",
       "      <td>0.990</td>\n",
       "      <td>online_vanilla</td>\n",
       "      <td>[6.264187315219161e-05, -7.231330631762845e-05...</td>\n",
       "      <td>NaN</td>\n",
       "    </tr>\n",
       "    <tr>\n",
       "      <th>14</th>\n",
       "      <td>False</td>\n",
       "      <td>True</td>\n",
       "      <td>0.900</td>\n",
       "      <td>online_vanilla</td>\n",
       "      <td>[-1.7681831062432707e-05, 0.000225174980936770...</td>\n",
       "      <td>NaN</td>\n",
       "    </tr>\n",
       "  </tbody>\n",
       "</table>\n",
       "</div>"
      ],
      "text/plain": [
       "    fit_intercept  keep_dead_nodes  forgetting_factor          method  \\\n",
       "0           False            False              1.000  online_vanilla   \n",
       "1           False            False              1.000  online_vanilla   \n",
       "2           False            False              0.999  online_vanilla   \n",
       "3           False            False              0.990  online_vanilla   \n",
       "4           False            False              0.900  online_vanilla   \n",
       "5            True            False              1.000  online_vanilla   \n",
       "6            True            False              1.000  online_vanilla   \n",
       "7            True            False              0.999  online_vanilla   \n",
       "8            True            False              0.990  online_vanilla   \n",
       "9            True            False              0.900  online_vanilla   \n",
       "10          False             True              1.000  online_vanilla   \n",
       "11          False             True              1.000  online_vanilla   \n",
       "12          False             True              0.999  online_vanilla   \n",
       "13          False             True              0.990  online_vanilla   \n",
       "14          False             True              0.900  online_vanilla   \n",
       "\n",
       "                                                error           mse  \n",
       "0   [3.758481761373389e-06, 0.00013123682025284467...  1.559859e+01  \n",
       "1   [-7.163353239914017e-05, 3.263172677581139e-05...  1.559859e+01  \n",
       "2   [0.00015089210527774455, -2.483193472446743e-0...  1.002318e+03  \n",
       "3   [-1.6418888135749654e-05, 4.600812358646067e-0...           NaN  \n",
       "4   [1.0609201213096497e-05, -4.702462959027542e-0...           NaN  \n",
       "5   [0.0001921817060632769, -7.167923911266527e-05...  1.559810e+01  \n",
       "6   [9.582639444172258e-05, 0.00018727674054019872...  1.559765e+01  \n",
       "7   [-6.599540851892627e-05, 8.892832179974164e-06...  2.924349e+05  \n",
       "8   [1.9944337552146862e-05, 0.0001674907214033183...  9.215743e-08  \n",
       "9   [6.038646835415662e-05, -3.0838848630310167e-0...           NaN  \n",
       "10  [-3.027914263231679e-05, -0.000284008248182754...  1.559714e+01  \n",
       "11  [5.5485452659098655e-05, 0.0002033514899633104...  1.559730e+01  \n",
       "12  [-0.00014625690690284188, -9.96118208478336e-0...  1.782443e+05  \n",
       "13  [6.264187315219161e-05, -7.231330631762845e-05...           NaN  \n",
       "14  [-1.7681831062432707e-05, 0.000225174980936770...           NaN  "
      ]
     },
     "execution_count": 49,
     "metadata": {},
     "output_type": "execute_result"
    }
   ],
   "source": [
    "df = pd.DataFrame(rows)\n",
    "df[\"mse\"] = [((x)**2).mean() for x in df.error]\n",
    "df"
   ]
  },
  {
   "cell_type": "code",
   "execution_count": 50,
   "id": "16c84b9f-607c-41f9-9bc4-5983ec25a351",
   "metadata": {},
   "outputs": [
    {
     "data": {
      "text/plain": [
       "[<matplotlib.lines.Line2D at 0x7f34b82330d0>]"
      ]
     },
     "execution_count": 50,
     "metadata": {},
     "output_type": "execute_result"
    },
    {
     "data": {
      "image/png": "[encoded data removed]",
      "text/plain": [
       "<Figure size 640x480 with 1 Axes>"
      ]
     },
     "metadata": {},
     "output_type": "display_data"
    }
   ],
   "source": [
    "plt.plot(df.mse[:])"
   ]
  },
  {
   "cell_type": "markdown",
   "id": "d3cfddec-4146-493f-9efb-b51a1617a1ba",
   "metadata": {},
   "source": [
    "# MPI update"
   ]
  },
  {
   "cell_type": "code",
   "execution_count": 204,
   "id": "8e6683bf-44af-4824-b0cf-a902f3589b7a",
   "metadata": {},
   "outputs": [],
   "source": [
    "def mpi_rank1_update(D,F,x):\n",
    "    beta = (1 + x.T @ D @ x)[0,0]\n",
    "    v = D @ x\n",
    "    n = D.T @ x\n",
    "    w = (np.eye(D.shape[0]) - F @ D) @ x\n",
    "    m = (np.eye(D.shape[0]) - D @ F).T @ x\n",
    "    \n",
    "    lw = np.linalg.norm(w)\n",
    "    lm = np.linalg.norm(m)\n",
    "    print(beta)\n",
    "    \n",
    "    if lw > 0 and lm > 0:\n",
    "        G = -1 * v @ w.T/(lw**2)  - m @ n.T/(lm**2) + beta * m @ w.T/(lm**2 * lw**2)\n",
    "    elif lm < 1e-10 and beta > 1e-10:\n",
    "        print('hit')\n",
    "        ln = numpy.linalg.norm(n)\n",
    "        G = 1/beta * D @ n @ w.T - beta/(ln**2 * lw**2 + np.abs(beta)**2) * ( lw**2/beta * D @n + v  ) @ (ln**2/beta*w + n ).T\n",
    "    else:\n",
    "        # look in the matrix cookbook section 3.7.2\n",
    "        raise NotImplementedError()\n",
    "    \n",
    "    \n",
    "    return D + G"
   ]
  },
  {
   "cell_type": "code",
   "execution_count": 205,
   "id": "d17a5491-6a4c-4b25-850a-7c1423eabfc7",
   "metadata": {},
   "outputs": [],
   "source": [
    "# simulates the creation of D and F=((C^T)C)\n",
    "\n",
    "d = 10\n",
    "F = np.zeros(shape=(2*d,2*d))\n",
    "\n",
    "for i in range(100):\n",
    "    x1 = rng.normal(size=(d,1))\n",
    "    x2 = rng.normal(size=(d,1)) * 1e-20\n",
    "    x = np.vstack([x1, x2])\n",
    "    F = F + x @ x.T\n",
    "\n",
    "D = np.linalg.pinv(F)\n",
    "\n",
    "x1 = rng.normal(size=(d,1))\n",
    "x2 = rng.normal(size=(d,1)) * 1e-20\n",
    "x = np.vstack([x1, x2])"
   ]
  },
  {
   "cell_type": "code",
   "execution_count": 202,
   "id": "26ebcc8d-f0b4-4b98-be62-78b620a1d202",
   "metadata": {},
   "outputs": [
    {
     "ename": "KeyError",
     "evalue": "'f_hist'",
     "output_type": "error",
     "traceback": [
      "\u001b[0;31m---------------------------------------------------------------------------\u001b[0m",
      "\u001b[0;31mKeyError\u001b[0m                                  Traceback (most recent call last)",
      "Cell \u001b[0;32mIn[202], line 3\u001b[0m\n\u001b[1;32m      1\u001b[0m t \u001b[38;5;241m=\u001b[39m \u001b[38;5;241m5_000\u001b[39m\n\u001b[1;32m      2\u001b[0m D \u001b[38;5;241m=\u001b[39m log2[\u001b[38;5;124m'\u001b[39m\u001b[38;5;124md_hist\u001b[39m\u001b[38;5;124m'\u001b[39m][t]\n\u001b[0;32m----> 3\u001b[0m F \u001b[38;5;241m=\u001b[39m \u001b[43mlog2\u001b[49m\u001b[43m[\u001b[49m\u001b[38;5;124;43m'\u001b[39;49m\u001b[38;5;124;43mf_hist\u001b[39;49m\u001b[38;5;124;43m'\u001b[39;49m\u001b[43m]\u001b[49m[t]\n\u001b[1;32m      4\u001b[0m x \u001b[38;5;241m=\u001b[39m make_xy(\u001b[38;5;241m*\u001b[39m\u001b[38;5;241m*\u001b[39mparams2)[\u001b[38;5;241m0\u001b[39m][t,:,\u001b[38;5;28;01mNone\u001b[39;00m]\n",
      "\u001b[0;31mKeyError\u001b[0m: 'f_hist'"
     ]
    }
   ],
   "source": [
    "t = 5_000\n",
    "D = log2['d_hist'][t]\n",
    "F = log2['f_hist'][t]\n",
    "x = make_xy(**params2)[0][t,:,None]\n"
   ]
  },
  {
   "cell_type": "code",
   "execution_count": 206,
   "id": "877f7f61-86ce-483c-8e03-35ee826783d7",
   "metadata": {},
   "outputs": [
    {
     "name": "stdout",
     "output_type": "stream",
     "text": [
      "case 2\n"
     ]
    }
   ],
   "source": [
    "ε = 1e-10 # 03b5\n",
    "\n",
    "beta = (1 + x.T @ D @ x)[0,0]\n",
    "v = D @ x\n",
    "n = D.T @ x\n",
    "w = (np.eye(D.shape[0]) - F @ D) @ x\n",
    "m = (np.eye(D.shape[0]) - D @ F).T @ x\n",
    "\n",
    "lw = np.linalg.norm(w)\n",
    "lm = np.linalg.norm(m)\n",
    "lv = np.linalg.norm(v)\n",
    "ln = np.linalg.norm(n)\n",
    "\n",
    "\n",
    "if lw > ε and lm > ε:\n",
    "    print(\"case 0\")\n",
    "    G = -1 * v @ w.T/(lw**2)  - m @ n.T/(lm**2) + beta * m @ w.T/(lm**2 * lw**2)\n",
    "elif lw < ε and lm > ε and beta < ε:\n",
    "    print(\"case 1\")\n",
    "    G = -1/lv**2 * v @ v.T @ D - 1/lm**2 * m @ n.T\n",
    "elif lw < ε and beta > ε:\n",
    "    print(\"case 2\")\n",
    "    G = 1/beta * m @ v.T @ D - beta/(lv**2 * lm**2 + np.abs(beta)**2) * ( lv**2/beta * m + v  ) @ (lm**2/beta* D.T @ v + n ).T\n",
    "elif lw > ε and lm < ε and beta < ε:\n",
    "    print(\"case 3\")\n",
    "    G = -1/ln**2 * D @ n @ n.T - 1/lw**2 * v @ w.T\n",
    "elif lm < ε and beta > ε:\n",
    "    print(\"case 4\")\n",
    "    ln = np.linalg.norm(n)\n",
    "    G = 1/beta * D @ n @ w.T - beta/(ln**2 * lw**2 + np.abs(beta)**2) * ( lw**2/beta * D @n + v  ) @ (ln**2/beta*w + n ).T\n",
    "elif lw < ε and lm < ε and beta < ε:\n",
    "    print(\"case 5\")\n",
    "    G = -1/lv**2 * v @ v.T @ D - 1/ln**2 * D @ n @ n.T + (v.T @ D @ n)/(lv**2 * ln**2) * v @ n.T \n",
    "else:\n",
    "    # look in the matrix cookbook section 3.7.2\n",
    "    raise NotImplementedError()\n",
    "\n"
   ]
  },
  {
   "cell_type": "code",
   "execution_count": 207,
   "id": "03a56af0-2e4b-4dd2-9aec-892def250850",
   "metadata": {},
   "outputs": [],
   "source": [
    "ε = 1e-15 # 03b5\n",
    "\n",
    "beta = (1 + x.T @ D @ x)[0,0]\n",
    "v = D @ x\n",
    "n = D.T @ x\n",
    "w = (np.eye(D.shape[0]) - F @ D) @ x\n",
    "m = (np.eye(D.shape[0]) - D @ F).T @ x\n",
    "\n",
    "lw = np.linalg.norm(w)\n",
    "lm = np.linalg.norm(m)\n",
    "lv = np.linalg.norm(v)\n",
    "ln = np.linalg.norm(n)\n",
    "\n",
    "gs = []\n",
    "gs.append(-1 * v @ w.T/(lw**2)  - m @ n.T/(lm**2) + beta * m @ w.T/(lm**2 * lw**2))\n",
    "gs.append(-1/lv**2 * v @ v.T @ D - 1/lm**2 * m @ n.T)\n",
    "gs.append(1/beta * m @ v.T @ D - beta/(lv**2 * lm**2 + np.abs(beta)**2) * ( lv**2/beta * m + v  ) @ (lm**2/beta* D.T @ v + n ).T)\n",
    "gs.append(-1/ln**2 * D @ n @ n.T - 1/lw**2 * v @ w.T)\n",
    "gs.append(1/beta * D @ n @ w.T - beta/(ln**2 * lw**2 + np.abs(beta)**2) * ( lw**2/beta * D @n + v  ) @ (ln**2/beta*w + n ).T)\n",
    "gs.append(-1/lv**2 * v @ v.T @ D - 1/ln**2 * D @ n @ n.T + (v.T @ D @ n)/(lv**2 * ln**2) * v @ n.T)"
   ]
  },
  {
   "cell_type": "code",
   "execution_count": 208,
   "id": "3e0c678a-745d-42c7-9163-e446585f227f",
   "metadata": {},
   "outputs": [
    {
     "name": "stdout",
     "output_type": "stream",
     "text": [
      "1.1405968026299209e+56\n",
      "2.364391553949612e+25\n",
      "1.5807837506297953e-32\n",
      "7.169733763508302e+24\n",
      "1.5713671879661116e-32\n",
      "0.00015872193200055845\n"
     ]
    }
   ],
   "source": [
    "for g in gs:\n",
    "    new_d_by_g = (D + g)\n",
    "    new_d_by_recalculation = np.linalg.pinv(F + x @ x.T)\n",
    "    print((( new_d_by_g - new_d_by_recalculation)**2).sum())"
   ]
  },
  {
   "cell_type": "code",
   "execution_count": 1004,
   "id": "a3cc7304-2f78-4ecf-abb4-75e140d9375c",
   "metadata": {},
   "outputs": [
    {
     "data": {
      "text/plain": [
       "3.098622050721622e-14"
      ]
     },
     "execution_count": 1004,
     "metadata": {},
     "output_type": "execute_result"
    }
   ],
   "source": [
    "lm"
   ]
  }
 ],
 "metadata": {
  "kernelspec": {
   "display_name": "Python 3 (ipykernel)",
   "language": "python",
   "name": "python3"
  },
  "language_info": {
   "codemirror_mode": {
    "name": "ipython",
    "version": 3
   },
   "file_extension": ".py",
   "mimetype": "text/x-python",
   "name": "python",
   "nbconvert_exporter": "python",
   "pygments_lexer": "ipython3",
   "version": "3.9.16"
  }
 },
 "nbformat": 4,
 "nbformat_minor": 5
}
