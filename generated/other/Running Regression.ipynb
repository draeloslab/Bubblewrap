{
 "cells": [
  {
   "cell_type": "code",
   "execution_count": 1,
   "id": "ffddc7ae-8539-4fe0-9be5-fcedf713346b",
   "metadata": {
    "tags": []
   },
   "outputs": [],
   "source": [
    "import numpy as np\n",
    "import matplotlib.pyplot as plt\n",
    "from tqdm import tqdm\n",
    "import pickle\n",
    "import time\n",
    "\n",
    "import sys\n",
    "sys.path.append(\"../../scripts\")\n",
    "\n",
    "import matplotlib.pyplot as plt\n",
    "\n",
    "from scripts.run_bubblewrap import BubblewrapRun"
   ]
  },
  {
   "cell_type": "code",
   "execution_count": 2,
   "id": "c4827d20-62b4-4b7f-bee6-efcea6749e8e",
   "metadata": {},
   "outputs": [],
   "source": [
    "from functools import lru_cache"
   ]
  },
  {
   "cell_type": "code",
   "execution_count": 3,
   "id": "9774cb53-3719-405c-b003-b6df55e409e1",
   "metadata": {},
   "outputs": [
    {
     "data": {
      "text/plain": [
       "{'divide': 'warn', 'over': 'warn', 'under': 'ignore', 'invalid': 'warn'}"
      ]
     },
     "execution_count": 3,
     "metadata": {},
     "output_type": "execute_result"
    }
   ],
   "source": [
    "rng = np.random.default_rng()\n",
    "np.seterr(all='warn')"
   ]
  },
  {
   "cell_type": "markdown",
   "id": "261dce2d-80bc-4c35-8516-561d010b81f5",
   "metadata": {
    "tags": []
   },
   "source": [
    "## Clock w/forgetting\n",
    "* make a way to compare conditions\n",
    "* look at c and d magnitudes over time across conditions\n",
    "* start comparing alternate methods\n",
    "\n",
    "* ridge regression\n",
    "* keeping D and c in some range\n",
    "* periodically recalcualte D"
   ]
  },
  {
   "cell_type": "code",
   "execution_count": 88,
   "id": "669a9a63-31e3-48dd-b39c-d5833266cf8f",
   "metadata": {},
   "outputs": [],
   "source": [
    "def make_xy(x_max_height=False, fit_intercept=False, keep_dead_nodes=False, y_true_alignment=True, y_tile_invert=True, zscore_x=False, xy_tiles=1, **kwargs):\n",
    "    with open('../bubblewrap_runs/bubblewrap_run_2023-06-19-11-03-33.pickle', \"rb\") as fhan:\n",
    "        br = pickle.load(fhan)\n",
    "    x_slice_start = 0\n",
    "    x_slice_end = br.alpha_list.shape[0]\n",
    "    if y_true_alignment:\n",
    "        x_slice_start = 1\n",
    "    if x_max_height:\n",
    "        x_slice_end = min(x_slice_start + x_max_height, x_slice_end)\n",
    "    \n",
    "    node_slice = slice(0,br.alpha_list.shape[1])\n",
    "    if not keep_dead_nodes:\n",
    "        node_slice = slice(0,8)\n",
    "    \n",
    "    \n",
    "    X = br.alpha_list[x_slice_start:x_slice_end,node_slice]\n",
    "    \n",
    "    if zscore_x:\n",
    "        X = (X - X.mean(axis=0))/X.std(axis=0)\n",
    "    \n",
    "    if fit_intercept:\n",
    "        X = np.hstack([X, np.ones(shape=[X.shape[0],1])])\n",
    "    \n",
    "    y = np.load('../datasets/clock-steadier_farther.npz')['x']\n",
    "    if y_tile_invert:\n",
    "        y = np.hstack([y, -y, y]).reshape((-1,1))\n",
    "    else:\n",
    "        y = np.hstack([y, y, y]).reshape((-1,1))\n",
    "    y = y[:X.shape[0]]\n",
    "    \n",
    "    \n",
    "    X = np.tile(X, reps=(xy_tiles,1))\n",
    "    y = np.tile(y, reps=(xy_tiles,1))\n",
    "    return X, y"
   ]
  },
  {
   "cell_type": "code",
   "execution_count": 5,
   "id": "f275af26-83dd-4c39-9a41-24d68d8dada1",
   "metadata": {
    "jupyter": {
     "source_hidden": true
    },
    "tags": []
   },
   "outputs": [],
   "source": [
    "def regress_online_vanilla(X, y, m=50, forgetting_factor=1, **kwargs):\n",
    "    logger = dict(d_hist=[], c_hist=[], w_hist=[], pred_hist=[], i_hist=[])\n",
    "    start = time.time()\n",
    "    \n",
    "    c = X[:m].T @ y[:m]\n",
    "    F = X[:m].T @ X[:m]\n",
    "    D = np.linalg.inv(F)\n",
    "    for i in (np.arange(0,n)):\n",
    "        if i >= m:\n",
    "            # get most recent timepoint\n",
    "            x = X[i:i+1,:].T\n",
    "\n",
    "            # modify by forgetting factors\n",
    "            D = D / forgetting_factor \n",
    "            c = c * forgetting_factor\n",
    "            \n",
    "            # update c and D\n",
    "            D = D - (D @ x @ x.T @ D)/(1 + x.T @ D @ x)\n",
    "            c = c  + x * y[i]\n",
    "            \n",
    "            # logging\n",
    "            logger['i_hist'].append(i)\n",
    "            logger['d_hist'].append(D)\n",
    "            logger['c_hist'].append(c)\n",
    "\n",
    "            w = D @ c\n",
    "            logger['w_hist'].append(w)\n",
    "            logger['pred_hist'].append(X[i,:]@w)\n",
    "    end = time.time()\n",
    "    for key in logger:\n",
    "        logger[key] = np.squeeze(logger[key])\n",
    "    logger['time'] = end-start\n",
    "    logger['y_hist'] = y[logger['i_hist']]\n",
    "    return logger"
   ]
  },
  {
   "cell_type": "code",
   "execution_count": 381,
   "id": "aa8191c2-e1ec-4246-a6c3-b621ec6b4298",
   "metadata": {
    "tags": []
   },
   "outputs": [],
   "source": [
    "def regress_online_more(X, y, m=50, forgetting_factor=1, **kwargs):\n",
    "    logger = dict(d_hist=[], c_hist=[], w_hist=[], pred_hist=[], i_hist=[], d_recal_hist=[], pred_recal_hist=[], pred_lstsq_hist=[], w_recal_hist=[])\n",
    "    start = time.time()\n",
    "    \n",
    "    c = X[:m].T @ y[:m]\n",
    "    F = X[:m].T @ X[:m]\n",
    "    D = np.linalg.inv(F)\n",
    "    for i in (np.arange(0,X.shape[0])):\n",
    "        if i >= m:\n",
    "            # get most recent timepoint\n",
    "            x = X[i:i+1,:].T\n",
    "\n",
    "            # modify by forgetting factors\n",
    "            D = D / forgetting_factor \n",
    "            c = c * forgetting_factor\n",
    "            F = F * forgetting_factor\n",
    "            \n",
    "            # update c and D\n",
    "            D = D - (D @ x @ x.T @ D)/(1 + x.T @ D @ x)\n",
    "            c = c  + x * y[i]\n",
    "            F = F + x@x.T\n",
    "            \n",
    "            \n",
    "            # logging\n",
    "            F_pinv = np.linalg.pinv(F)\n",
    "            logger['i_hist'].append(i)\n",
    "            logger['d_hist'].append(D)\n",
    "            logger['c_hist'].append(c)\n",
    "            logger['d_recal_hist'].append(F_pinv)\n",
    "\n",
    "            w = D @ c\n",
    "            logger['w_hist'].append(w)\n",
    "            logger['w_recal_hist'].append(F_pinv @ c)\n",
    "            logger['pred_hist'].append(X[i,:]@ D @ c)\n",
    "            logger['pred_recal_hist'].append(X[i,:] @ F_pinv @ c)\n",
    "            logger['pred_lstsq_hist'].append(X[i,:] @ np.linalg.lstsq(F, c, rcond=None)[0])\n",
    "    end = time.time()\n",
    "    for key in logger:\n",
    "        logger[key] = np.squeeze(logger[key])\n",
    "    logger['time'] = end-start\n",
    "    logger['y_hist'] = y[logger['i_hist']]\n",
    "    return logger"
   ]
  },
  {
   "cell_type": "code",
   "execution_count": 165,
   "id": "73d1beb8-a265-4dcf-b59d-4fd4a04cceb7",
   "metadata": {
    "jupyter": {
     "source_hidden": true
    },
    "tags": []
   },
   "outputs": [],
   "source": [
    "def regress_online_more_eecs_paper(X, y, m=50, forgetting_factor=1, **kwargs):\n",
    "    logger = dict(d_hist=[], c_hist=[], w_hist=[], pred_hist=[], i_hist=[], d_recal_hist=[], pred_recal_hist=[], pred_lstsq_hist=[])\n",
    "    start = time.time()\n",
    "    \n",
    "    c = X[:m].T @ y[:m]\n",
    "    F = X[:m].T @ X[:m]\n",
    "    D = np.linalg.pinv(F)\n",
    "    # w = np.zeros((X.shape[1],1))\n",
    "    w = np.linalg.lstsq(F, c, rcond=None)[0]\n",
    "    for i in (np.arange(0,X.shape[0])):\n",
    "        if i >= m:\n",
    "            # get most recent timepoint\n",
    "            x = X[i:i+1,:].T\n",
    "\n",
    "            g = D @ x\n",
    "            alpha = 1/np.squeeze(forgetting_factor + x.T @ g)\n",
    "            e = y[i] - np.squeeze(w.T @ x)\n",
    "\n",
    "            \n",
    "            \n",
    "            \n",
    "            # update c and D\n",
    "            D = (1/forgetting_factor) * D - (1/forgetting_factor) * alpha * g @ g.T\n",
    "            w = w + alpha * g * e\n",
    "            c = c  + x * y[i]\n",
    "            F = F + x@x.T\n",
    "            \n",
    "            \n",
    "            # logging\n",
    "            F_pinv = np.linalg.pinv(F)\n",
    "            logger['i_hist'].append(i)\n",
    "            logger['d_hist'].append(D)\n",
    "            logger['c_hist'].append(c)\n",
    "            logger['d_recal_hist'].append(F_pinv)\n",
    "\n",
    "            logger['w_hist'].append(w)\n",
    "            logger['pred_hist'].append(X[i,:]@ w)\n",
    "            logger['pred_recal_hist'].append(X[i,:] @ F_pinv @ c)\n",
    "            logger['pred_lstsq_hist'].append(X[i,:] @ np.linalg.lstsq(F, c, rcond=None)[0])\n",
    "    end = time.time()\n",
    "    for key in logger:\n",
    "        logger[key] = np.squeeze(logger[key])\n",
    "    logger['time'] = end-start\n",
    "    logger['y_hist'] = y[logger['i_hist']]\n",
    "    return logger"
   ]
  },
  {
   "cell_type": "code",
   "execution_count": 293,
   "id": "fc31b469-2e91-493b-8c33-edc9270ae3b0",
   "metadata": {
    "jupyter": {
     "source_hidden": true
    },
    "tags": []
   },
   "outputs": [],
   "source": [
    "def mpi_rank1_update(D,F,x):\n",
    "    ε = 1e-1 # 03b5\n",
    "\n",
    "    beta = (1 + x.T @ D @ x)[0,0]\n",
    "    v = D @ x\n",
    "    n = D.T @ x\n",
    "    w = (np.eye(D.shape[0]) - F @ D) @ x\n",
    "    m = (np.eye(D.shape[0]) - D @ F).T @ x\n",
    "\n",
    "    lw = np.linalg.norm(w)\n",
    "    lm = np.linalg.norm(m)\n",
    "    lv = np.linalg.norm(v)\n",
    "    ln = np.linalg.norm(n)\n",
    "\n",
    "    if lw > ε and lm > ε:\n",
    "        case = 0\n",
    "        G = -1 * v @ w.T/(lw**2)  - m @ n.T/(lm**2) + beta * m @ w.T/(lm**2 * lw**2)\n",
    "    elif lw < ε and lm > ε and beta < ε:\n",
    "        case = 1 \n",
    "        G = -1/lv**2 * v @ v.T @ D - 1/lm**2 * m @ n.T\n",
    "    elif lw < ε and beta > ε:\n",
    "        case = 2\n",
    "        G = 1/beta * m @ v.T @ D - beta/(lv**2 * lm**2 + np.abs(beta)**2) * ( lv**2/beta * m + v  ) @ (lm**2/beta* D.T @ v + n ).T\n",
    "    elif lw > ε and lm < ε and beta < ε:\n",
    "        case = 3\n",
    "        G = -1/ln**2 * D @ n @ n.T - 1/lw**2 * v @ w.T\n",
    "    elif lm < ε and beta > ε:\n",
    "        case = 4 \n",
    "        G = 1/beta * D @ n @ w.T - beta/(ln**2 * lw**2 + np.abs(beta)**2) * ( lw**2/beta * D @n + v  ) @ (ln**2/beta*w + n ).T\n",
    "    elif lw < ε and lm < ε and beta < ε:\n",
    "        case = 5\n",
    "        G = -1/lv**2 * v @ v.T @ D - 1/ln**2 * D @ n @ n.T + (v.T @ D @ n)/(lv**2 * ln**2) * v @ n.T \n",
    "    else:\n",
    "        # look in the matrix cookbook section 3.7.2\n",
    "        raise NotImplementedError()\n",
    "        \n",
    "        \n",
    "    return D + G, np.array([lw, lm, beta]), case\n",
    "\n",
    "\n",
    "def regress_online_pinv(X, y, m=50, forgetting_factor=1, **kwargs):\n",
    "    logger = dict(d_hist=[], c_hist=[], w_hist=[], pred_hist=[], i_hist=[], d_recal_hist=[], pred_recal_hist=[], pred_lstsq_hist=[], diagnostics=[], f_hist=[], case=[])\n",
    "    start = time.time()\n",
    "    \n",
    "    c = X[:m].T @ y[:m]\n",
    "    F = X[:m].T @ X[:m]\n",
    "    D = np.linalg.pinv(F)\n",
    "    for i in (np.arange(0,X.shape[0])):\n",
    "        if i >= m:\n",
    "            # get most recent timepoint\n",
    "            x = X[i:i+1,:].T\n",
    "\n",
    "            # modify by forgetting factors\n",
    "            D = D / forgetting_factor \n",
    "            c = c * forgetting_factor\n",
    "            F = F * forgetting_factor\n",
    "            \n",
    "            # update c and D\n",
    "            D, diagnostics, case = mpi_rank1_update(D, F, x)\n",
    "            c = c  + x * y[i]\n",
    "            F = F + x @ x.T\n",
    "            \n",
    "            \n",
    "            # logging\n",
    "            logger['diagnostics'].append(diagnostics)\n",
    "            logger['case'].append(case)\n",
    "            logger['i_hist'].append(i)\n",
    "            logger['d_hist'].append(D)\n",
    "            logger['c_hist'].append(c)\n",
    "            logger['f_hist'].append(F)\n",
    "            logger['d_recal_hist'].append(np.linalg.inv(F))\n",
    "\n",
    "            w = D @ c\n",
    "            logger['w_hist'].append(w)\n",
    "            logger['pred_hist'].append(X[i,:]@ D @ c)\n",
    "            logger['pred_recal_hist'].append(X[i,:] @ np.linalg.pinv(F) @ c)\n",
    "            logger['pred_lstsq_hist'].append(X[i,:] @ np.linalg.lstsq(F, c, rcond=None)[0])\n",
    "    end = time.time()\n",
    "    for key in logger:\n",
    "        logger[key] = np.squeeze(logger[key])\n",
    "    logger['time'] = end-start\n",
    "    logger['y_hist'] = y[logger['i_hist']]\n",
    "    return logger"
   ]
  },
  {
   "cell_type": "code",
   "execution_count": 306,
   "id": "e674bd93-cf56-4895-a8c5-1b959fceb83f",
   "metadata": {
    "jupyter": {
     "source_hidden": true
    },
    "tags": []
   },
   "outputs": [],
   "source": [
    "def mpi_rank1_oracular_update(D,F,x):\n",
    "    beta = (1 + x.T @ D @ x)[0,0]\n",
    "    v = D @ x\n",
    "    n = D.T @ x\n",
    "    w = (np.eye(D.shape[0]) - F @ D) @ x\n",
    "    m = (np.eye(D.shape[0]) - D @ F).T @ x\n",
    "\n",
    "    lw = np.linalg.norm(w)\n",
    "    lm = np.linalg.norm(m)\n",
    "    lv = np.linalg.norm(v)\n",
    "    ln = np.linalg.norm(n)\n",
    "\n",
    "    gs = []\n",
    "    gs.append(-1 * v @ w.T/(lw**2)  - m @ n.T/(lm**2) + beta * m @ w.T/(lm**2 * lw**2))\n",
    "    gs.append(-1/lv**2 * v @ v.T @ D - 1/lm**2 * m @ n.T)\n",
    "    gs.append(1/beta * m @ v.T @ D - beta/(lv**2 * lm**2 + np.abs(beta)**2) * ( lv**2/beta * m + v  ) @ (lm**2/beta* D.T @ v + n ).T)\n",
    "    gs.append(-1/ln**2 * D @ n @ n.T - 1/lw**2 * v @ w.T)\n",
    "    gs.append(1/beta * D @ n @ w.T - beta/(ln**2 * lw**2 + np.abs(beta)**2) * ( lw**2/beta * D @n + v  ) @ (ln**2/beta*w + n ).T)\n",
    "    gs.append(-1/lv**2 * v @ v.T @ D - 1/ln**2 * D @ n @ n.T + (v.T @ D @ n)/(lv**2 * ln**2) * v @ n.T)\n",
    "    \n",
    "    return np.array(gs), np.array([lw, lm, beta])\n",
    "\n",
    "\n",
    "def regress_online_pinv_oracle(X, y, m=50, forgetting_factor=1, **kwargs):\n",
    "    logger = dict(d_hist=[], c_hist=[], w_hist=[], pred_hist=[], i_hist=[], d_recal_hist=[], pred_recal_hist=[], pred_lstsq_hist=[], diagnostics=[], f_hist=[], choices=[])\n",
    "    start = time.time()\n",
    "    \n",
    "    c = X[:m].T @ y[:m]\n",
    "    F = X[:m].T @ X[:m]\n",
    "    D = np.linalg.pinv(F)\n",
    "    for i in (np.arange(0,X.shape[0])):\n",
    "        if i >= m:\n",
    "            # get most recent timepoint\n",
    "            x = X[i:i+1,:].T\n",
    "\n",
    "            # modify by forgetting factors\n",
    "            D = D / forgetting_factor \n",
    "            c = c * forgetting_factor\n",
    "            F = F * forgetting_factor\n",
    "            \n",
    "            # update c and D\n",
    "            gs, diagnostics = mpi_rank1_oracular_update(D, F, x)\n",
    "            \n",
    "            D_pinv = np.linalg.pinv(F)\n",
    "            \n",
    "            errors = (((D + gs) - D_pinv)**2).sum(axis=1).sum(axis=1)\n",
    "            choice = np.argmin(errors)\n",
    "            D = D + gs[choice,:,:]\n",
    "            \n",
    "            c = c  + x * y[i]\n",
    "            F = F + x @ x.T\n",
    "            \n",
    "            \n",
    "            # logging\n",
    "            logger['choices'].append(choice)\n",
    "            logger['diagnostics'].append(diagnostics)\n",
    "            logger['i_hist'].append(i)\n",
    "            logger['d_hist'].append(D)\n",
    "            logger['c_hist'].append(c)\n",
    "            logger['f_hist'].append(F)\n",
    "            logger['d_recal_hist'].append(np.linalg.pinv(F))\n",
    "\n",
    "            w = D @ c\n",
    "            logger['w_hist'].append(w)\n",
    "            logger['pred_hist'].append(X[i,:]@ D @ c)\n",
    "            logger['pred_recal_hist'].append(X[i,:] @ D_pinv @ c)\n",
    "            logger['pred_lstsq_hist'].append(X[i,:] @ np.linalg.lstsq(F, c, rcond=None)[0])\n",
    "    end = time.time()\n",
    "    for key in logger:\n",
    "        logger[key] = np.squeeze(logger[key])\n",
    "    logger['time'] = end-start\n",
    "    logger['y_hist'] = y[logger['i_hist']]\n",
    "    return logger"
   ]
  },
  {
   "cell_type": "code",
   "execution_count": 391,
   "id": "2d449854-60d9-49a4-a38b-5b3dc6b464ec",
   "metadata": {},
   "outputs": [
    {
     "name": "stdout",
     "output_type": "stream",
     "text": [
      "1.2664250165602664e+17\n",
      "1.2664250165602664e+17\n"
     ]
    },
    {
     "name": "stderr",
     "output_type": "stream",
     "text": [
      "/tmp/ipykernel_5683/3765811685.py:19: RuntimeWarning: invalid value encountered in matmul\n",
      "  D = D - (D @ x @ x.T @ D)/(1 + x.T @ D @ x)\n",
      "/tmp/ipykernel_5683/3765811685.py:19: RuntimeWarning: invalid value encountered in divide\n",
      "  D = D - (D @ x @ x.T @ D)/(1 + x.T @ D @ x)\n"
     ]
    }
   ],
   "source": [
    "uninteresting_params = dict(\n",
    "    x_max_height=False, \n",
    "    y_true_alignment=True, \n",
    "    y_tile_invert=True, \n",
    "    zscore_x=False,\n",
    "    m=100,\n",
    ")\n",
    "\n",
    "def do_run(params):\n",
    "    X, y = make_xy(**params)\n",
    "    print(np.linalg.cond(X))\n",
    "    log = regress_online_more(X,y, **params)\n",
    "    # log = regress_online_more_eecs_paper(X,y, **params)\n",
    "    # log = regress_online_pinv_oracle(X,y, **params)\n",
    "    # log = regress_online_pinv(X,y, **params)\n",
    "    \n",
    "    return log\n",
    "\n",
    "params1 = dict(uninteresting_params,\n",
    "    fit_intercept=True, \n",
    "    keep_dead_nodes=True,\n",
    "    forgetting_factor=1,\n",
    "    xy_tiles=1\n",
    ")\n",
    "\n",
    "params2 = dict(params1, forgetting_factor=.99)\n",
    "\n",
    "log1 = do_run(params1)\n",
    "log2 = do_run(params2)"
   ]
  },
  {
   "cell_type": "code",
   "execution_count": 251,
   "id": "531460dc-de11-4da1-aa83-fb49a616f928",
   "metadata": {},
   "outputs": [],
   "source": [
    "def make_label(params):\n",
    "    return f\"+b? {int(params['fit_intercept'])}, ☠? {int(params['keep_dead_nodes'])}, f.f.={params['forgetting_factor']}\""
   ]
  },
  {
   "cell_type": "code",
   "execution_count": 392,
   "id": "807a2e0b-d4cb-4c4a-a3a7-ad5bf1531bc2",
   "metadata": {},
   "outputs": [],
   "source": [
    "# compare log1 and log2\n",
    "plt.plot(log1['y_hist'], label='true y')\n",
    "plt.plot(log1['pred_hist'], label=make_label(params1))\n",
    "plt.plot(log2['pred_hist'], label=make_label(params2))\n",
    "plt.xlabel(\"timestep\");\n",
    "plt.ylabel(\"behavior value\");\n",
    "plt.ylim([-10,10])\n",
    "plt.legend();"
   ]
  },
  {
   "cell_type": "code",
   "execution_count": 384,
   "id": "1a8fabc2-16b6-4c72-b148-ec27df01033c",
   "metadata": {},
   "outputs": [],
   "source": [
    "# compare pred_hist and pred_recal_list\n",
    "plt.plot(log2['y_hist'], label='true y')\n",
    "plt.plot(log2['pred_hist'], label=\"iterative\")\n",
    "plt.plot(log2['pred_recal_hist'], label=\"np.linalg.pinv\")\n",
    "plt.plot(log2['pred_lstsq_hist'], label=\"np.linalg.lstsq\")\n",
    "plt.xlabel(\"timestep\");\n",
    "plt.ylabel(\"behavior value\");\n",
    "plt.ylim([-10,10])\n",
    "plt.title(make_label(params2))\n",
    "plt.legend();"
   ]
  },
  {
   "cell_type": "code",
   "execution_count": 385,
   "id": "56204268-96eb-4275-9e4d-bd115c10af36",
   "metadata": {},
   "outputs": [
    {
     "name": "stderr",
     "output_type": "stream",
     "text": [
      "/tmp/ipykernel_5683/3844783392.py:3: RuntimeWarning: underflow encountered in square\n",
      "  errors = ((log2['d_hist'] - log2['d_recal_hist'])**2).sum(axis=0)\n"
     ]
    },
    {
     "data": {
      "text/plain": [
       "<matplotlib.legend.Legend at 0x7feb4e642310>"
      ]
     },
     "execution_count": 385,
     "metadata": {},
     "output_type": "execute_result"
    }
   ],
   "source": [
    "a,b = 0,0\n",
    "\n",
    "errors = ((log2['d_hist'] - log2['d_recal_hist'])**2).sum(axis=0)\n",
    "a,b = np.unravel_index(errors.argmax(), errors.shape)\n",
    "\n",
    "plt.plot(log2['d_hist'][:,0,0], label=\"iterative\");\n",
    "plt.plot(log2['d_recal_hist'][:,0,0], label=\"np.linalg.inv\");\n",
    "\n",
    "plt.title(f\"D[{a},{b}];  \" + make_label(params2))\n",
    "\n",
    "plt.legend()"
   ]
  },
  {
   "cell_type": "code",
   "execution_count": null,
   "id": "3aa42f52-2224-4622-99a7-71a59996ac20",
   "metadata": {},
   "outputs": [],
   "source": [
    "plt.plot(np.log10(log2['diagnostics']))"
   ]
  },
  {
   "cell_type": "code",
   "execution_count": null,
   "id": "bdd60cd3-d36a-4719-8476-2e2abb3752a7",
   "metadata": {},
   "outputs": [],
   "source": [
    "plt.plot(log2['choices'],'.')"
   ]
  },
  {
   "cell_type": "code",
   "execution_count": 386,
   "id": "672d61b3-cc6d-4324-96f5-d2d827c6b779",
   "metadata": {},
   "outputs": [
    {
     "name": "stderr",
     "output_type": "stream",
     "text": [
      "/tmp/ipykernel_5683/3074877402.py:15: RuntimeWarning: divide by zero encountered in log10\n",
      "  axs[1].plot(np.log10(lowers))\n"
     ]
    }
   ],
   "source": [
    "fig, axs = plt.subplots(nrows=2, ncols=1, sharex=True)\n",
    "\n",
    "uppers = np.max(np.abs(log2['d_hist']), axis=(1,2))\n",
    "lowers = np.min(np.abs(log2['d_hist']), axis=(1,2))\n",
    "axs[0].plot(np.log10(uppers), label='upper limit')\n",
    "axs[0].plot(np.log10(lowers),  label='lower limit')\n",
    "axs[0].set_xlabel(\"timestep\")\n",
    "axs[0].set_ylabel(\"log10 $\\mid D\\mid $bounds (streaming)\")\n",
    "axs[0].legend()\n",
    "\n",
    "\n",
    "uppers = np.max(np.abs(log2['d_recal_hist']), axis=(1,2))\n",
    "lowers = np.min(np.abs(log2['d_recal_hist']), axis=(1,2))\n",
    "axs[1].plot(np.log10(uppers))\n",
    "axs[1].plot(np.log10(lowers))\n",
    "axs[1].set_xlabel(\"timestep\")\n",
    "axs[1].set_ylabel(\"log10 $\\mid D\\mid $bounds (pinv)\")\n",
    "\n",
    "\n",
    "axs[0].set_title(make_label(params2));"
   ]
  },
  {
   "cell_type": "code",
   "execution_count": 393,
   "id": "374b61cf-e8b6-4003-a756-16cd72a1e119",
   "metadata": {},
   "outputs": [
    {
     "name": "stderr",
     "output_type": "stream",
     "text": [
      "/tmp/ipykernel_5683/3120800354.py:15: RuntimeWarning: divide by zero encountered in log10\n",
      "  axs[1].plot(np.log10(lowers))\n"
     ]
    }
   ],
   "source": [
    "fig, axs = plt.subplots(nrows=2, ncols=1, sharex=True)\n",
    "\n",
    "uppers = np.max(np.abs(log2['w_hist']), axis=(1))\n",
    "lowers = np.min(np.abs(log2['w_hist']), axis=(1))\n",
    "axs[0].plot(np.log10(uppers), label='upper limit')\n",
    "axs[0].plot(np.log10(lowers),  label='lower limit')\n",
    "axs[0].set_xlabel(\"timestep\")\n",
    "axs[0].set_ylabel(\"log10 $\\mid D\\mid $bounds (streaming)\")\n",
    "axs[0].legend()\n",
    "\n",
    "\n",
    "uppers = np.max(np.abs(log2['w_recal_hist']), axis=(1))\n",
    "lowers = np.min(np.abs(log2['w_recal_hist']), axis=(1))\n",
    "axs[1].plot(np.log10(uppers))\n",
    "axs[1].plot(np.log10(lowers))\n",
    "axs[1].set_xlabel(\"timestep\")\n",
    "axs[1].set_ylabel(\"log10 $\\mid D\\mid $bounds (pinv)\")\n",
    "\n",
    "\n",
    "axs[0].set_title(make_label(params2));"
   ]
  },
  {
   "cell_type": "code",
   "execution_count": 68,
   "id": "6b6b24c6-3446-435c-9c93-6112c34f179e",
   "metadata": {},
   "outputs": [
    {
     "data": {
      "text/html": [
       "<div>\n",
       "<style scoped>\n",
       "    .dataframe tbody tr th:only-of-type {\n",
       "        vertical-align: middle;\n",
       "    }\n",
       "\n",
       "    .dataframe tbody tr th {\n",
       "        vertical-align: top;\n",
       "    }\n",
       "\n",
       "    .dataframe thead th {\n",
       "        text-align: right;\n",
       "    }\n",
       "</style>\n",
       "<table border=\"1\" class=\"dataframe\">\n",
       "  <thead>\n",
       "    <tr style=\"text-align: right;\">\n",
       "      <th></th>\n",
       "      <th>intercept</th>\n",
       "      <th>dead_nodes</th>\n",
       "      <th>condition_number</th>\n",
       "    </tr>\n",
       "  </thead>\n",
       "  <tbody>\n",
       "    <tr>\n",
       "      <th>0</th>\n",
       "      <td>False</td>\n",
       "      <td>False</td>\n",
       "      <td>1.003606e+00</td>\n",
       "    </tr>\n",
       "    <tr>\n",
       "      <th>1</th>\n",
       "      <td>True</td>\n",
       "      <td>False</td>\n",
       "      <td>1.396301e+05</td>\n",
       "    </tr>\n",
       "    <tr>\n",
       "      <th>2</th>\n",
       "      <td>False</td>\n",
       "      <td>True</td>\n",
       "      <td>4.225899e+16</td>\n",
       "    </tr>\n",
       "    <tr>\n",
       "      <th>3</th>\n",
       "      <td>True</td>\n",
       "      <td>True</td>\n",
       "      <td>1.266425e+17</td>\n",
       "    </tr>\n",
       "  </tbody>\n",
       "</table>\n",
       "</div>"
      ],
      "text/plain": [
       "   intercept  dead_nodes  condition_number\n",
       "0      False       False      1.003606e+00\n",
       "1       True       False      1.396301e+05\n",
       "2      False        True      4.225899e+16\n",
       "3       True        True      1.266425e+17"
      ]
     },
     "execution_count": 68,
     "metadata": {},
     "output_type": "execute_result"
    }
   ],
   "source": [
    "df = []\n",
    "\n",
    "for d in [False, True]:\n",
    "    for i in [False,True]:\n",
    "        X,y = make_xy(fit_intercept=i, keep_dead_nodes=d)\n",
    "        df.append(dict(intercept=i, dead_nodes=d, condition_number=np.linalg.cond(X)))\n",
    "df = pd.DataFrame(df)\n",
    "df"
   ]
  },
  {
   "cell_type": "markdown",
   "id": "dfc9d99a-2c50-4e63-bb7d-06aaeedec975",
   "metadata": {},
   "source": [
    ")compare ws across runs over time"
   ]
  },
  {
   "cell_type": "markdown",
   "id": "91fa7c20-b2b7-4a47-823f-fbf0c8251937",
   "metadata": {},
   "source": [
    "compare online predictions across time"
   ]
  },
  {
   "cell_type": "markdown",
   "id": "5fc51bdf-3183-4176-8ca6-e695ead2d0e3",
   "metadata": {},
   "source": [
    "inspect d's entries across time"
   ]
  },
  {
   "cell_type": "markdown",
   "id": "d3cfddec-4146-493f-9efb-b51a1617a1ba",
   "metadata": {},
   "source": [
    "# MPI update"
   ]
  },
  {
   "cell_type": "code",
   "execution_count": 204,
   "id": "8e6683bf-44af-4824-b0cf-a902f3589b7a",
   "metadata": {},
   "outputs": [],
   "source": [
    "def mpi_rank1_update(D,F,x):\n",
    "    beta = (1 + x.T @ D @ x)[0,0]\n",
    "    v = D @ x\n",
    "    n = D.T @ x\n",
    "    w = (np.eye(D.shape[0]) - F @ D) @ x\n",
    "    m = (np.eye(D.shape[0]) - D @ F).T @ x\n",
    "    \n",
    "    lw = np.linalg.norm(w)\n",
    "    lm = np.linalg.norm(m)\n",
    "    print(beta)\n",
    "    \n",
    "    if lw > 0 and lm > 0:\n",
    "        G = -1 * v @ w.T/(lw**2)  - m @ n.T/(lm**2) + beta * m @ w.T/(lm**2 * lw**2)\n",
    "    elif lm < 1e-10 and beta > 1e-10:\n",
    "        print('hit')\n",
    "        ln = numpy.linalg.norm(n)\n",
    "        G = 1/beta * D @ n @ w.T - beta/(ln**2 * lw**2 + np.abs(beta)**2) * ( lw**2/beta * D @n + v  ) @ (ln**2/beta*w + n ).T\n",
    "    else:\n",
    "        # look in the matrix cookbook section 3.7.2\n",
    "        raise NotImplementedError()\n",
    "    \n",
    "    \n",
    "    return D + G"
   ]
  },
  {
   "cell_type": "code",
   "execution_count": 205,
   "id": "d17a5491-6a4c-4b25-850a-7c1423eabfc7",
   "metadata": {},
   "outputs": [],
   "source": [
    "# simulates the creation of D and F=((C^T)C)\n",
    "\n",
    "d = 10\n",
    "F = np.zeros(shape=(2*d,2*d))\n",
    "\n",
    "for i in range(100):\n",
    "    x1 = rng.normal(size=(d,1))\n",
    "    x2 = rng.normal(size=(d,1)) * 1e-20\n",
    "    x = np.vstack([x1, x2])\n",
    "    F = F + x @ x.T\n",
    "\n",
    "D = np.linalg.pinv(F)\n",
    "\n",
    "x1 = rng.normal(size=(d,1))\n",
    "x2 = rng.normal(size=(d,1)) * 1e-20\n",
    "x = np.vstack([x1, x2])"
   ]
  },
  {
   "cell_type": "code",
   "execution_count": 202,
   "id": "26ebcc8d-f0b4-4b98-be62-78b620a1d202",
   "metadata": {},
   "outputs": [
    {
     "ename": "KeyError",
     "evalue": "'f_hist'",
     "output_type": "error",
     "traceback": [
      "\u001b[0;31m---------------------------------------------------------------------------\u001b[0m",
      "\u001b[0;31mKeyError\u001b[0m                                  Traceback (most recent call last)",
      "Cell \u001b[0;32mIn[202], line 3\u001b[0m\n\u001b[1;32m      1\u001b[0m t \u001b[38;5;241m=\u001b[39m \u001b[38;5;241m5_000\u001b[39m\n\u001b[1;32m      2\u001b[0m D \u001b[38;5;241m=\u001b[39m log2[\u001b[38;5;124m'\u001b[39m\u001b[38;5;124md_hist\u001b[39m\u001b[38;5;124m'\u001b[39m][t]\n\u001b[0;32m----> 3\u001b[0m F \u001b[38;5;241m=\u001b[39m \u001b[43mlog2\u001b[49m\u001b[43m[\u001b[49m\u001b[38;5;124;43m'\u001b[39;49m\u001b[38;5;124;43mf_hist\u001b[39;49m\u001b[38;5;124;43m'\u001b[39;49m\u001b[43m]\u001b[49m[t]\n\u001b[1;32m      4\u001b[0m x \u001b[38;5;241m=\u001b[39m make_xy(\u001b[38;5;241m*\u001b[39m\u001b[38;5;241m*\u001b[39mparams2)[\u001b[38;5;241m0\u001b[39m][t,:,\u001b[38;5;28;01mNone\u001b[39;00m]\n",
      "\u001b[0;31mKeyError\u001b[0m: 'f_hist'"
     ]
    }
   ],
   "source": [
    "t = 5_000\n",
    "D = log2['d_hist'][t]\n",
    "F = log2['f_hist'][t]\n",
    "x = make_xy(**params2)[0][t,:,None]\n"
   ]
  },
  {
   "cell_type": "code",
   "execution_count": 206,
   "id": "877f7f61-86ce-483c-8e03-35ee826783d7",
   "metadata": {},
   "outputs": [
    {
     "name": "stdout",
     "output_type": "stream",
     "text": [
      "case 2\n"
     ]
    }
   ],
   "source": [
    "ε = 1e-10 # 03b5\n",
    "\n",
    "beta = (1 + x.T @ D @ x)[0,0]\n",
    "v = D @ x\n",
    "n = D.T @ x\n",
    "w = (np.eye(D.shape[0]) - F @ D) @ x\n",
    "m = (np.eye(D.shape[0]) - D @ F).T @ x\n",
    "\n",
    "lw = np.linalg.norm(w)\n",
    "lm = np.linalg.norm(m)\n",
    "lv = np.linalg.norm(v)\n",
    "ln = np.linalg.norm(n)\n",
    "\n",
    "\n",
    "if lw > ε and lm > ε:\n",
    "    print(\"case 0\")\n",
    "    G = -1 * v @ w.T/(lw**2)  - m @ n.T/(lm**2) + beta * m @ w.T/(lm**2 * lw**2)\n",
    "elif lw < ε and lm > ε and beta < ε:\n",
    "    print(\"case 1\")\n",
    "    G = -1/lv**2 * v @ v.T @ D - 1/lm**2 * m @ n.T\n",
    "elif lw < ε and beta > ε:\n",
    "    print(\"case 2\")\n",
    "    G = 1/beta * m @ v.T @ D - beta/(lv**2 * lm**2 + np.abs(beta)**2) * ( lv**2/beta * m + v  ) @ (lm**2/beta* D.T @ v + n ).T\n",
    "elif lw > ε and lm < ε and beta < ε:\n",
    "    print(\"case 3\")\n",
    "    G = -1/ln**2 * D @ n @ n.T - 1/lw**2 * v @ w.T\n",
    "elif lm < ε and beta > ε:\n",
    "    print(\"case 4\")\n",
    "    ln = np.linalg.norm(n)\n",
    "    G = 1/beta * D @ n @ w.T - beta/(ln**2 * lw**2 + np.abs(beta)**2) * ( lw**2/beta * D @n + v  ) @ (ln**2/beta*w + n ).T\n",
    "elif lw < ε and lm < ε and beta < ε:\n",
    "    print(\"case 5\")\n",
    "    G = -1/lv**2 * v @ v.T @ D - 1/ln**2 * D @ n @ n.T + (v.T @ D @ n)/(lv**2 * ln**2) * v @ n.T \n",
    "else:\n",
    "    # look in the matrix cookbook section 3.7.2\n",
    "    raise NotImplementedError()\n",
    "\n"
   ]
  },
  {
   "cell_type": "code",
   "execution_count": 207,
   "id": "03a56af0-2e4b-4dd2-9aec-892def250850",
   "metadata": {},
   "outputs": [],
   "source": [
    "ε = 1e-15 # 03b5\n",
    "\n",
    "beta = (1 + x.T @ D @ x)[0,0]\n",
    "v = D @ x\n",
    "n = D.T @ x\n",
    "w = (np.eye(D.shape[0]) - F @ D) @ x\n",
    "m = (np.eye(D.shape[0]) - D @ F).T @ x\n",
    "\n",
    "lw = np.linalg.norm(w)\n",
    "lm = np.linalg.norm(m)\n",
    "lv = np.linalg.norm(v)\n",
    "ln = np.linalg.norm(n)\n",
    "\n",
    "gs = []\n",
    "gs.append(-1 * v @ w.T/(lw**2)  - m @ n.T/(lm**2) + beta * m @ w.T/(lm**2 * lw**2))\n",
    "gs.append(-1/lv**2 * v @ v.T @ D - 1/lm**2 * m @ n.T)\n",
    "gs.append(1/beta * m @ v.T @ D - beta/(lv**2 * lm**2 + np.abs(beta)**2) * ( lv**2/beta * m + v  ) @ (lm**2/beta* D.T @ v + n ).T)\n",
    "gs.append(-1/ln**2 * D @ n @ n.T - 1/lw**2 * v @ w.T)\n",
    "gs.append(1/beta * D @ n @ w.T - beta/(ln**2 * lw**2 + np.abs(beta)**2) * ( lw**2/beta * D @n + v  ) @ (ln**2/beta*w + n ).T)\n",
    "gs.append(-1/lv**2 * v @ v.T @ D - 1/ln**2 * D @ n @ n.T + (v.T @ D @ n)/(lv**2 * ln**2) * v @ n.T)"
   ]
  },
  {
   "cell_type": "code",
   "execution_count": 208,
   "id": "3e0c678a-745d-42c7-9163-e446585f227f",
   "metadata": {},
   "outputs": [
    {
     "name": "stdout",
     "output_type": "stream",
     "text": [
      "1.1405968026299209e+56\n",
      "2.364391553949612e+25\n",
      "1.5807837506297953e-32\n",
      "7.169733763508302e+24\n",
      "1.5713671879661116e-32\n",
      "0.00015872193200055845\n"
     ]
    }
   ],
   "source": [
    "for g in gs:\n",
    "    new_d_by_g = (D + g)\n",
    "    new_d_by_recalculation = np.linalg.pinv(F + x @ x.T)\n",
    "    print((( new_d_by_g - new_d_by_recalculation)**2).sum())"
   ]
  },
  {
   "cell_type": "code",
   "execution_count": 1004,
   "id": "a3cc7304-2f78-4ecf-abb4-75e140d9375c",
   "metadata": {},
   "outputs": [
    {
     "data": {
      "text/plain": [
       "3.098622050721622e-14"
      ]
     },
     "execution_count": 1004,
     "metadata": {},
     "output_type": "execute_result"
    }
   ],
   "source": [
    "lm"
   ]
  }
 ],
 "metadata": {
  "kernelspec": {
   "display_name": "Python 3 (ipykernel)",
   "language": "python",
   "name": "python3"
  },
  "language_info": {
   "codemirror_mode": {
    "name": "ipython",
    "version": 3
   },
   "file_extension": ".py",
   "mimetype": "text/x-python",
   "name": "python",
   "nbconvert_exporter": "python",
   "pygments_lexer": "ipython3",
   "version": "3.9.16"
  }
 },
 "nbformat": 4,
 "nbformat_minor": 5
}
