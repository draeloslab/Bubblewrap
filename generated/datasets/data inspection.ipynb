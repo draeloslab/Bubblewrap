{
 "cells": [
  {
   "cell_type": "code",
   "execution_count": 1,
   "id": "78388d20-78d6-407a-8834-c1f793bb647b",
   "metadata": {
    "tags": []
   },
   "outputs": [],
   "source": [
    "import numpy as np\n",
    "import matplotlib.pyplot as plt"
   ]
  },
  {
   "cell_type": "code",
   "execution_count": 2,
   "id": "04f994ea-52ad-4487-9997-48ab6cef1858",
   "metadata": {
    "tags": []
   },
   "outputs": [],
   "source": [
    "%matplotlib inline"
   ]
  },
  {
   "cell_type": "code",
   "execution_count": 3,
   "id": "dbbddaa3-5355-4837-baef-193e7f177099",
   "metadata": {},
   "outputs": [],
   "source": [
    "y = np.squeeze(np.load(\"jpca_reduced.npy\"))"
   ]
  },
  {
   "cell_type": "code",
   "execution_count": 107,
   "id": "32051454-ead5-4628-b495-5a5c0d6b5c08",
   "metadata": {
    "tags": []
   },
   "outputs": [
    {
     "name": "stdout",
     "output_type": "stream",
     "text": [
      "(1, 10000, 2)\n"
     ]
    }
   ],
   "source": [
    "with np.load(\"clock_wandering_01.npz\") as data:\n",
    "    x = np.squeeze(data['x'])\n",
    "    y = np.squeeze(data['y'])\n",
    "    print(data['y'].shape)"
   ]
  },
  {
   "cell_type": "code",
   "execution_count": 4,
   "id": "9e31e662-880f-4bfa-9a37-4a2fec921476",
   "metadata": {},
   "outputs": [
    {
     "data": {
      "text/plain": [
       "(6, 2268)"
      ]
     },
     "execution_count": 4,
     "metadata": {},
     "output_type": "execute_result"
    }
   ],
   "source": [
    "y.shape"
   ]
  },
  {
   "cell_type": "code",
   "execution_count": null,
   "id": "a5f0ea98-a26b-4767-8282-363dd46b3f12",
   "metadata": {},
   "outputs": [],
   "source": []
  },
  {
   "cell_type": "code",
   "execution_count": 11,
   "id": "c8fad934-de84-4a0b-9ef7-808d394c0427",
   "metadata": {},
   "outputs": [],
   "source": [
    "np.savez(\"jpca_reduced_sc.npz\", x=obs, y=y.T[None,:,:])"
   ]
  },
  {
   "cell_type": "code",
   "execution_count": 7,
   "id": "11c371ab-35eb-43da-b1bf-82e5991df0ee",
   "metadata": {},
   "outputs": [
    {
     "data": {
      "text/plain": [
       "[<matplotlib.lines.Line2D at 0x7f36ba3af8b0>]"
      ]
     },
     "execution_count": 7,
     "metadata": {},
     "output_type": "execute_result"
    }
   ],
   "source": [
    "%matplotlib qt\n",
    "fig, ax = plt.subplots()\n",
    "t = 21\n",
    "\n",
    "cps = np.array([[0.223, -0.301],[0,0]])\n",
    "cps = np.fliplr(cps)\n",
    "cps[:,0] *= -1\n",
    "\n",
    "for i in range(y.shape[1]//t):\n",
    "    \n",
    "    # ax.plot(y[0,(i+1)*t-1], y[1,(i+1)*t-1], 'r.')\n",
    "    if cps[0,:] @ y[:2,i*t] >0:\n",
    "        c = 'C0'\n",
    "    else:\n",
    "        c = 'C1'\n",
    "    ax.plot(y[0,i*t:t*(i+1)], y[1,i*t:(i+1)*t], color=c)\n",
    "ax.plot(cps[:,0], cps[:,1])\n",
    "\n"
   ]
  },
  {
   "cell_type": "code",
   "execution_count": 8,
   "id": "97b3fc93-0f98-4151-83db-6d07a565a47e",
   "metadata": {},
   "outputs": [],
   "source": [
    "obs = np.zeros(y.shape[1])\n",
    "trail_length = 21\n",
    "for i in range(obs.shape[0]//trail_length):\n",
    "    b = -1 if np.array([0.301,  0.223]) @ y[:2,i*trail_length] > 0 else 1\n",
    "    obs[i*trail_length:(i+1)*trail_length] = np.arange(trail_length) * b\n"
   ]
  },
  {
   "cell_type": "code",
   "execution_count": 10,
   "id": "2c3465cb-d7f2-4cb4-b020-dce82f69ebc6",
   "metadata": {},
   "outputs": [
    {
     "data": {
      "text/plain": [
       "[<matplotlib.lines.Line2D at 0x7f36b8c1ab50>]"
      ]
     },
     "execution_count": 10,
     "metadata": {},
     "output_type": "execute_result"
    }
   ],
   "source": [
    "plt.plot(obs)"
   ]
  },
  {
   "cell_type": "code",
   "execution_count": 126,
   "id": "e2ad42ae-34ac-4315-ac8a-3eded0d19157",
   "metadata": {},
   "outputs": [
    {
     "data": {
      "text/plain": [
       "(2268,)"
      ]
     },
     "execution_count": 126,
     "metadata": {},
     "output_type": "execute_result"
    }
   ],
   "source": [
    "obs.shape"
   ]
  },
  {
   "cell_type": "code",
   "execution_count": 63,
   "id": "32e14474-ec24-4955-ad35-5b056c3e4dde",
   "metadata": {},
   "outputs": [
    {
     "data": {
      "text/plain": [
       "[<mpl_toolkits.mplot3d.art3d.Line3D at 0x7f8afc1b1ee0>]"
      ]
     },
     "execution_count": 63,
     "metadata": {},
     "output_type": "execute_result"
    }
   ],
   "source": [
    "%matplotlib qt\n",
    "ax = plt.figure().add_subplot(projection='3d')\n",
    "s = slice(0,500)\n",
    "ax.plot(data_dict['finger_pos'][s,0],data_dict['finger_pos'][s,1], data_dict['finger_pos'][s,2])\n"
   ]
  },
  {
   "cell_type": "markdown",
   "id": "cbd6045b-3ed8-4d0d-990b-bb4b339c1ccf",
   "metadata": {},
   "source": [
    "# Pranjal's Code"
   ]
  },
  {
   "cell_type": "code",
   "execution_count": 11,
   "id": "61ec9e04-5131-43ac-9548-785e714944e1",
   "metadata": {},
   "outputs": [],
   "source": [
    "import numpy as np\n",
    "import matplotlib.pyplot as plt\n",
    "\n",
    "import scipy.signal as signal\n",
    "import mat73\n",
    "from proSVD import proSVD"
   ]
  },
  {
   "cell_type": "code",
   "execution_count": 12,
   "id": "ccb07eae-f034-4cec-a465-8755e3a1cd8f",
   "metadata": {},
   "outputs": [],
   "source": [
    "data_dict = mat73.loadmat('indy_20160407_02.mat')\n",
    "\n",
    "units_unsorted = []\n",
    "units_sorted = []\n",
    "\n",
    "for ch_curr in data_dict['spikes']:\n",
    "    units_unsorted.append(ch_curr[0]) # from data description, first unit is unsorted\n",
    "    for unit_curr in ch_curr[1:]:\n",
    "        if unit_curr is not None:\n",
    "            units_sorted.append(unit_curr)"
   ]
  },
  {
   "cell_type": "code",
   "execution_count": 24,
   "id": "5467d4fc-192e-46c1-8f89-4164ccb20793",
   "metadata": {},
   "outputs": [],
   "source": [
    "bin_size_ms = 10\n",
    "timesteps = int(1000 / bin_size_ms) # todo: what is this for?\n",
    "\n",
    "mintime, maxtime = 100, 0\n",
    "for spk_times_curr in units_sorted:\n",
    "    mintime = min(spk_times_curr[0], mintime)\n",
    "    maxtime = max(spk_times_curr[-1], maxtime)"
   ]
  },
  {
   "cell_type": "code",
   "execution_count": 27,
   "id": "b0e57584-4ea6-40b2-bddb-dc1b568624cd",
   "metadata": {},
   "outputs": [],
   "source": [
    "spk_bins = np.arange(mintime, maxtime, bin_size_ms/1000)\n",
    "spks_binned = []\n",
    "\n",
    "for i, unit_curr in enumerate(units_sorted):\n",
    "    spks_binned_curr, _ = np.histogram(unit_curr, bins=spk_bins, range=(spk_bins[0], spk_bins[-1]))\n",
    "    spks_binned.append(spks_binned_curr)\n",
    "\n",
    "data = np.array(spks_binned).T"
   ]
  },
  {
   "cell_type": "code",
   "execution_count": 64,
   "id": "caae449f-7eb4-4b47-b786-411642905ac0",
   "metadata": {},
   "outputs": [
    {
     "data": {
      "text/plain": [
       "array([ 60.00056373,  60.01056373,  60.02056373, ..., 887.75056373,\n",
       "       887.76056373, 887.77056373])"
      ]
     },
     "execution_count": 64,
     "metadata": {},
     "output_type": "execute_result"
    }
   ],
   "source": [
    "spk_bins"
   ]
  },
  {
   "cell_type": "code",
   "execution_count": 40,
   "id": "2d778ced-75b5-48ed-ab73-03f7f1eddcfd",
   "metadata": {},
   "outputs": [],
   "source": [
    "l1 = 100 # columns used to initialize\n",
    "l = 1 # columns per update\n",
    "k=6 # reduced dimension\n",
    "\n",
    "num_iters = np.floor((data.shape[0] - l1 - l)/l).astype('int')\n",
    "update_times = np.arange(l1, num_iters*l, l) # index of when updates happen (not including init)"
   ]
  },
  {
   "cell_type": "code",
   "execution_count": 41,
   "id": "0c617ceb-66c4-4f49-aa39-7c943e2295fe",
   "metadata": {},
   "outputs": [],
   "source": [
    "kern_sd = 50\n",
    "smooth_filt = signal.gaussian(int(6 * kern_sd / bin_size_ms), int(kern_sd / bin_size_ms), sym=True)\n",
    "smooth_filt /=  np.sum(smooth_filt)\n",
    "data_init_smooth = np.apply_along_axis(lambda x, filt: np.convolve(x, filt, 'same'), \n",
    "                                       0, data[:l1, :], filt=smooth_filt)"
   ]
  },
  {
   "cell_type": "code",
   "execution_count": 42,
   "id": "609a30f2-5d6e-475f-a7d4-b2a2c9f7130b",
   "metadata": {},
   "outputs": [],
   "source": [
    "pro = proSVD(\n",
    "    k=k,\n",
    "    decay_alpha=1, \n",
    "    trueSVD=True, \n",
    "    history=0\n",
    ")\n",
    "\n",
    "pro.initialize(data_init_smooth.T)"
   ]
  },
  {
   "cell_type": "code",
   "execution_count": 43,
   "id": "c967678d-70e4-4bc7-a591-da56bffbb9b1",
   "metadata": {},
   "outputs": [],
   "source": [
    "data_red = np.zeros((data.shape[0], k))\n",
    "\n",
    "data_red[:l1, :] = data_init_smooth @ pro.Q\n",
    "\n",
    "\n",
    "\n",
    "pro_end = int(data.shape[0]/8) # when proSVD will stop updating and bubblewrap starts\n",
    "\n",
    "\n",
    "pro_diffs = []\n",
    "\n",
    "smooth_window = data[l1-len(smooth_filt):l1, :]\n",
    "\n",
    "for i, t in enumerate(update_times): \n",
    "\n",
    "    start, end = t, t+pro.w_len\n",
    "\n",
    "    dat_curr = data[start:end, :]\n",
    "\n",
    "    smooth_window[:-1, :] = smooth_window[1:, :]\n",
    "\n",
    "    smooth_window[-1, :] = dat_curr\n",
    "\n",
    "    dat_smooth = smooth_filt @ smooth_window\n",
    "\n",
    "    \n",
    "\n",
    "    # proSVD updates\n",
    "\n",
    "    if t < pro_end:  # only update for first n steps\n",
    "\n",
    "        pro.preupdate()\n",
    "\n",
    "        pro.updateSVD(dat_smooth[:, None])\n",
    "\n",
    "        pro.postupdate()\n",
    "\n",
    "        pro_diffs.append(np.linalg.norm(pro.Q-pro.Q_prev, axis=0))\n",
    "\n",
    "        \n",
    "\n",
    "    # getting projected data\n",
    "\n",
    "    data_red[start:end, :] = dat_smooth @ pro.Q\n"
   ]
  },
  {
   "cell_type": "code",
   "execution_count": null,
   "id": "2562ef82-3fed-4fa9-986a-da94f8c1eaed",
   "metadata": {},
   "outputs": [],
   "source": [
    "# %%\n",
    "\n",
    "# Plotting - proSVD changes\n",
    "\n",
    "fig, ax = plt.subplots()\n",
    "\n",
    "pro_diffs = np.array(pro_diffs)\n",
    "\n",
    "ax.plot(np.arange(pro_diffs.shape[0])/timesteps, pro_diffs)\n",
    "\n",
    "ax.set(title='proSVD stabilizes with <1 min of data', \n",
    "\n",
    "       xlabel='seconds of data seen', \n",
    "\n",
    "       ylabel=r'$|\\Delta\\mathbf{Q}|$')\n",
    "\n",
    "​\n",
    "\n",
    "# proSVD-reduced trials\n",
    "\n",
    "fig, ax = plt.subplots(2, 2, figsize=(12, 12), sharex=True, sharey=True)\n",
    "\n",
    "plt.subplots_adjust(hspace=0, wspace=0)\n",
    "\n",
    "ax = ax.flatten()\n",
    "\n",
    "for j, tr_start in enumerate([1, 10, 50, 500]):\n",
    "\n",
    "    n_trials_plot = 5\n",
    "\n",
    "    plt.rcParams[\"axes.prop_cycle\"] = plt.cycler(\"color\", plt.cm.viridis(np.linspace(0,1,n_trials_plot)))\n",
    "\n",
    "    for i in range(n_trials_plot):\n",
    "\n",
    "        start_bin = (tr_start+i) * timesteps\n",
    "\n",
    "        xs, ys = [*data_red[start_bin:start_bin+timesteps, :2].T]\n",
    "\n",
    "        ax[j].plot(xs, ys)\n",
    "\n",
    "​\n",
    "\n",
    "​\n",
    "\n",
    "#%%\n",
    "\n",
    "# bubblewrap learning\n",
    "\n",
    "time_sec = np.array(bw.pred).shape[0]/(1000/bin_size_ms)\n",
    "\n",
    "fig, ax = plt.subplots()\n",
    "\n",
    "axtwin = plot_pred_entropy(bw, ax=ax, bin_size_ms=bin_size_ms)\n",
    "\n",
    "# axs[1].set(xlim=(0,1000), ylim=(-40, 15))\n",
    "\n",
    "ax.set(title='log predictive probability (above) and entropy (below)')\n",
    "\n",
    "ax.set_xlabel('Time (s)')\n",
    "\n",
    "ax.set(ylim=(-25, 15),\n",
    "\n",
    "    yticks=np.arange(-10, 20, 5))\n",
    "\n",
    "axtwin.set(ylim=(0,20),\n",
    "\n",
    "    yticks=np.arange(0,7,2)) \n",
    "\n",
    "\n",
    "#%%\n",
    "\n",
    "# prediction trial\n",
    "\n",
    "for trial in np.arange(700, 701):\n",
    "\n",
    "    start, end = trial*timesteps, (trial+1)*timesteps\n",
    "\n",
    "    newtrial = data_red[start:end, :]\n",
    "\n",
    "    fig, ax = plt.subplots(figsize=(5,7))\n",
    "\n",
    "    ax = draw_future(bw, ax, n_bubbles_forward=8, n_conns=1, trial=newtrial[:-35], n_steps_in=15)\n",
    "\n",
    "    ax.set(xlim=(-1.1,-.45), ylim=(-.4, .27))\n",
    "\n",
    "    full_trials = np.floor( data_red[pro_end:int(T/2)].shape[0] / timesteps).astype('int')\n",
    "\n",
    "    ind = 0\n",
    "\n",
    "    for j in range(full_trials):\n",
    "\n",
    "        ax.plot(data_red[ind:ind+timesteps, 0], data_red[ind:ind+timesteps, 1], \n",
    "\n",
    "                alpha=.01, color='k', rasterized=True, zorder=99) \n",
    "\n",
    "        ind += timesteps\n",
    "\n",
    "    # if trial == 700:\n",
    "\n",
    "    #     plt.savefig('bw_predict_trial.svg', bbox_inches='tight')"
   ]
  }
 ],
 "metadata": {
  "kernelspec": {
   "display_name": "Python 3 (ipykernel)",
   "language": "python",
   "name": "python3"
  },
  "language_info": {
   "codemirror_mode": {
    "name": "ipython",
    "version": 3
   },
   "file_extension": ".py",
   "mimetype": "text/x-python",
   "name": "python",
   "nbconvert_exporter": "python",
   "pygments_lexer": "ipython3",
   "version": "3.9.16"
  }
 },
 "nbformat": 4,
 "nbformat_minor": 5
}
