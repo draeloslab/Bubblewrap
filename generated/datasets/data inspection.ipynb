{
 "cells": [
  {
   "cell_type": "code",
   "execution_count": 2,
   "id": "78388d20-78d6-407a-8834-c1f793bb647b",
   "metadata": {
    "tags": []
   },
   "outputs": [],
   "source": [
    "import numpy as np\n",
    "import matplotlib.pyplot as plt"
   ]
  },
  {
   "cell_type": "code",
   "execution_count": 6,
   "id": "04f994ea-52ad-4487-9997-48ab6cef1858",
   "metadata": {
    "tags": []
   },
   "outputs": [],
   "source": [
    "%matplotlib inline"
   ]
  },
  {
   "cell_type": "code",
   "execution_count": 109,
   "id": "dbbddaa3-5355-4837-baef-193e7f177099",
   "metadata": {},
   "outputs": [],
   "source": [
    "y = np.squeeze(np.load(\"jpca_reduced.npy\"))"
   ]
  },
  {
   "cell_type": "code",
   "execution_count": 107,
   "id": "32051454-ead5-4628-b495-5a5c0d6b5c08",
   "metadata": {
    "tags": []
   },
   "outputs": [
    {
     "name": "stdout",
     "output_type": "stream",
     "text": [
      "(1, 10000, 2)\n"
     ]
    }
   ],
   "source": [
    "with np.load(\"clock_wandering_01.npz\") as data:\n",
    "    x = np.squeeze(data['x'])\n",
    "    y = np.squeeze(data['y'])\n",
    "    print(data['y'].shape)"
   ]
  },
  {
   "cell_type": "code",
   "execution_count": 108,
   "id": "4993f911-d17a-429f-a184-8fc6fb2e563e",
   "metadata": {
    "tags": []
   },
   "outputs": [
    {
     "name": "stdout",
     "output_type": "stream",
     "text": [
      "(10000,)\n"
     ]
    }
   ],
   "source": [
    "with np.load(\"clock_wandering_01.npz\") as data:\n",
    "    x = np.squeeze(data['x'])\n",
    "    y = np.squeeze(data['y'])\n",
    "    print(data['x'].shape)"
   ]
  },
  {
   "cell_type": "code",
   "execution_count": 113,
   "id": "9e31e662-880f-4bfa-9a37-4a2fec921476",
   "metadata": {},
   "outputs": [
    {
     "data": {
      "text/plain": [
       "(1, 2268, 6)"
      ]
     },
     "execution_count": 113,
     "metadata": {},
     "output_type": "execute_result"
    }
   ],
   "source": [
    "y.T[None,:,:].shape"
   ]
  },
  {
   "cell_type": "code",
   "execution_count": null,
   "id": "a5f0ea98-a26b-4767-8282-363dd46b3f12",
   "metadata": {},
   "outputs": [],
   "source": []
  },
  {
   "cell_type": "code",
   "execution_count": 127,
   "id": "c8fad934-de84-4a0b-9ef7-808d394c0427",
   "metadata": {},
   "outputs": [],
   "source": [
    "np.savez(\"jpca_reduced.npz\", x=obs, y=y.T[None,:,:])"
   ]
  },
  {
   "cell_type": "code",
   "execution_count": 97,
   "id": "11c371ab-35eb-43da-b1bf-82e5991df0ee",
   "metadata": {},
   "outputs": [
    {
     "data": {
      "text/plain": [
       "[<matplotlib.lines.Line2D at 0x7f7aa1b2e0d0>]"
      ]
     },
     "execution_count": 97,
     "metadata": {},
     "output_type": "execute_result"
    }
   ],
   "source": [
    "%matplotlib qt\n",
    "fig, ax = plt.subplots()\n",
    "t = 21\n",
    "\n",
    "cps = np.array([[0.223, -0.301],[0,0]])\n",
    "cps = np.fliplr(cps)\n",
    "cps[:,0] *= -1\n",
    "\n",
    "for i in range(y.shape[1]//t):\n",
    "    \n",
    "    # ax.plot(y[0,(i+1)*t-1], y[1,(i+1)*t-1], 'r.')\n",
    "    if cps[0,:] @ y[:2,i*t] >0:\n",
    "        c = 'C0'\n",
    "    else:\n",
    "        c = 'C1'\n",
    "    ax.plot(y[0,i*t:t*(i+1)], y[1,i*t:(i+1)*t], color=c)\n",
    "ax.plot(cps[:,0], cps[:,1])\n",
    "\n"
   ]
  },
  {
   "cell_type": "code",
   "execution_count": 124,
   "id": "97b3fc93-0f98-4151-83db-6d07a565a47e",
   "metadata": {},
   "outputs": [],
   "source": [
    "obs = np.zeros(y.shape[1])\n",
    "trail_length = 21\n",
    "for i in range(obs.shape[0]//trail_length):\n",
    "    b = -1 if np.array([0.301,  0.223]) @ y[:2,i*trail_length] > 0 else 1\n",
    "    obs[i*trail_length:(i+1)*trail_length] = b\n"
   ]
  },
  {
   "cell_type": "code",
   "execution_count": 125,
   "id": "2c3465cb-d7f2-4cb4-b020-dce82f69ebc6",
   "metadata": {},
   "outputs": [
    {
     "data": {
      "text/plain": [
       "array([-1., -1., -1., ...,  1.,  1.,  1.])"
      ]
     },
     "execution_count": 125,
     "metadata": {},
     "output_type": "execute_result"
    }
   ],
   "source": [
    "obs"
   ]
  },
  {
   "cell_type": "code",
   "execution_count": 126,
   "id": "e2ad42ae-34ac-4315-ac8a-3eded0d19157",
   "metadata": {},
   "outputs": [
    {
     "data": {
      "text/plain": [
       "(2268,)"
      ]
     },
     "execution_count": 126,
     "metadata": {},
     "output_type": "execute_result"
    }
   ],
   "source": [
    "obs.shape"
   ]
  }
 ],
 "metadata": {
  "kernelspec": {
   "display_name": "Python 3 (ipykernel)",
   "language": "python",
   "name": "python3"
  },
  "language_info": {
   "codemirror_mode": {
    "name": "ipython",
    "version": 3
   },
   "file_extension": ".py",
   "mimetype": "text/x-python",
   "name": "python",
   "nbconvert_exporter": "python",
   "pygments_lexer": "ipython3",
   "version": "3.9.16"
  }
 },
 "nbformat": 4,
 "nbformat_minor": 5
}
