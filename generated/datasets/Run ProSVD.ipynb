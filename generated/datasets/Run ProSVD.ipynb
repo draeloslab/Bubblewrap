{
 "cells": [
  {
   "cell_type": "markdown",
   "id": "59444f09-53c2-4c51-80e1-8ad78b1403e6",
   "metadata": {
    "tags": []
   },
   "source": [
    "# Run `ProSVD`"
   ]
  },
  {
   "cell_type": "code",
   "execution_count": 82,
   "id": "23dc092e-8041-4641-b0d5-6029f1a9d541",
   "metadata": {
    "tags": []
   },
   "outputs": [],
   "source": [
    "import numpy as np\n",
    "import matplotlib.pylab as plt\n",
    "import scipy.signal as signal\n",
    "import mat73 # for loading .mat files\n",
    "import scipy.io as sio\n",
    "\n",
    "# from bubblewrap import Bubblewrap\n",
    "from proSVD import proSVD\n",
    "from tqdm import tqdm"
   ]
  },
  {
   "cell_type": "code",
   "execution_count": 80,
   "id": "8df0816e-066f-4577-9371-d15c20b5bcba",
   "metadata": {},
   "outputs": [],
   "source": [
    "data = sio.loadmat(r'spont_M150824_MP019_20160405.mat', squeeze_me=True, variable_names='Fsp')['Fsp']\n",
    "data = data.T\n",
    "\n",
    "framerate = 3 # Hz\n",
    "bin_size_ms = 1/framerate * 1000"
   ]
  },
  {
   "cell_type": "code",
   "execution_count": 98,
   "id": "093ee6cf-df47-4cbe-a652-0f46bfe692ea",
   "metadata": {},
   "outputs": [],
   "source": [
    "#%%\n",
    "# proSVD params\n",
    "k = 4 # reduced dimension\n",
    "trueSVD = False # whether proSVD should track true SVD basis (a little slower)\n",
    "l1 = 100 # columns used to initialize\n",
    "decay = 1 # 1 = effective window is all of data\n",
    "num_iters = np.floor((data.shape[0] - l1 - l)/l).astype('int')\n",
    "update_times = np.arange(l1, num_iters*l, l) # index of when updates happen (not including init)"
   ]
  },
  {
   "cell_type": "code",
   "execution_count": 99,
   "id": "1a803d70-bd36-47f5-ab81-6d82b0dfaaf2",
   "metadata": {},
   "outputs": [
    {
     "name": "stderr",
     "output_type": "stream",
     "text": [
      "100%|███████████████████████████████████| 20854/20854 [00:14<00:00, 1417.41it/s]\n"
     ]
    }
   ],
   "source": [
    "# smoothing params\n",
    "kern_sd = 500\n",
    "smooth_filt = signal.gaussian(int(6 * kern_sd / bin_size_ms), int(kern_sd / bin_size_ms), sym=True)\n",
    "smooth_filt /=  np.sum(smooth_filt)\n",
    "data_init_smooth = np.apply_along_axis(lambda x, filt: np.convolve(x, filt, 'same'),\n",
    "                                       0, data[:l1, :], filt=smooth_filt)\n",
    "\n",
    "\n",
    "\n",
    "\n",
    "\n",
    "# initialize proSVD\n",
    "\n",
    "data_init = data[:l1, :]\n",
    "\n",
    "pro = proSVD(k=k, decay_alpha=decay, trueSVD=trueSVD, history=0)\n",
    "pro.initialize(data_init_smooth.T)\n",
    "\n",
    "# storing dimension-reduced data\n",
    "data_red = np.zeros((data.shape[0], k))\n",
    "data_red[:l1, :] = data_init_smooth @ pro.Q\n",
    "\n",
    "# run online\n",
    "# pro_end = int(data.shape[0]/8) # when proSVD will stop updating and bubblewrap starts\n",
    "pro_diffs = []\n",
    "smooth_window = data[l1-len(smooth_filt):l1, :]\n",
    "for i, t in enumerate(tqdm(update_times)):\n",
    "    start, end = t, t+pro.w_len\n",
    "    dat_curr = data[start:end, :]\n",
    "    smooth_window[:-1, :] = smooth_window[1:, :]\n",
    "    smooth_window[-1, :] = dat_curr\n",
    "    dat_smooth = smooth_filt @ smooth_window\n",
    "\n",
    "    # proSVD updates\n",
    "    # if t < pro_end:  # only update for first n steps\n",
    "    pro.preupdate()\n",
    "    pro.updateSVD(dat_smooth[:,None])\n",
    "    pro.postupdate()\n",
    "    pro_diffs.append(np.linalg.norm(pro.Q-pro.Q_prev, axis=0))\n",
    "\n",
    "    # getting projected data\n",
    "    data_red[start:end, :] = dat_smooth @ pro.Q"
   ]
  },
  {
   "cell_type": "code",
   "execution_count": 33,
   "id": "d6b5a046-f686-4c93-8439-c7198d8c0db0",
   "metadata": {},
   "outputs": [
    {
     "name": "stderr",
     "output_type": "stream",
     "text": [
      "100%|███████████████████████████████████| 20854/20854 [00:17<00:00, 1167.94it/s]\n"
     ]
    }
   ],
   "source": [
    "# # smoothing params\n",
    "# kern_sd = 50\n",
    "# smooth_filt = signal.gaussian(int(6 * kern_sd / bin_size_ms), int(kern_sd / bin_size_ms), sym=True)\n",
    "# smooth_filt /=  np.sum(smooth_filt)\n",
    "# data_init_smooth = np.apply_along_axis(lambda x, filt: np.convolve(x, filt, 'same'),\n",
    "#                                        0, data[:l1, :], filt=smooth_filt)\n",
    "\n",
    "# initialize proSVD\n",
    "\n",
    "\n",
    "data_init = data[:l1, :]\n",
    "\n",
    "pro = proSVD(k=k, decay_alpha=decay, trueSVD=trueSVD, history=0)\n",
    "pro.initialize(data_init.T)\n",
    "\n",
    "# storing dimension-reduced data\n",
    "data_red = np.zeros((data.shape[0], k))\n",
    "data_red[:l1, :] = data_init @ pro.Q\n",
    "\n",
    "# run online\n",
    "# pro_end = int(data.shape[0]/8) # when proSVD will stop updating and bubblewrap starts\n",
    "pro_diffs = []\n",
    "# smooth_window = data[l1-len(smooth_filt):l1, :]\n",
    "for i, t in enumerate(tqdm(update_times)):\n",
    "    start, end = t, t+pro.w_len\n",
    "    dat_curr = data[start:end, :]\n",
    "    # smooth_window[:-1, :] = smooth_window[1:, :]\n",
    "    # smooth_window[-1, :] = dat_curr\n",
    "    # dat_smooth = smooth_filt @ smooth_window\n",
    "\n",
    "    # proSVD updates\n",
    "    # if t < pro_end:  # only update for first n steps\n",
    "    pro.preupdate()\n",
    "    pro.updateSVD(dat_curr.T)\n",
    "    pro.postupdate()\n",
    "    pro_diffs.append(np.linalg.norm(pro.Q-pro.Q_prev, axis=0))\n",
    "\n",
    "    # getting projected data\n",
    "    data_red[start:end, :] = dat_curr @ pro.Q"
   ]
  },
  {
   "cell_type": "code",
   "execution_count": 94,
   "id": "683a2808-a33c-440b-a2ac-1e44dc29e806",
   "metadata": {},
   "outputs": [],
   "source": [
    "%matplotlib qt\n",
    "fig, ax = plt.subplots()\n",
    "pro_diffs = np.array(pro_diffs)\n",
    "ax.plot(np.arange(pro_diffs.shape[0])/framerate, pro_diffs)\n",
    "ax.set( #title='proSVD stabilizes with <1 min of data',\n",
    "       xlabel='seconds of data seen',\n",
    "       ylabel=r'$|\\Delta\\mathbf{Q}|$');"
   ]
  },
  {
   "cell_type": "code",
   "execution_count": 54,
   "id": "dfa380b7-7676-41ec-a9d3-dd4170f875bf",
   "metadata": {},
   "outputs": [],
   "source": [
    "beh = sio.loadmat(r'spont_M150824_MP019_20160405.mat', squeeze_me=True, struct_as_record=False, variable_names='beh')['beh']"
   ]
  },
  {
   "cell_type": "code",
   "execution_count": 101,
   "id": "6818e95c-7a53-4ad3-8d71-1ffb7ee5e7e9",
   "metadata": {},
   "outputs": [],
   "source": [
    "obs = np.hstack([beh.runSpeed[:,None], beh.pupil.area[:,None], beh.face.motionSVD[:,:10]])"
   ]
  },
  {
   "cell_type": "code",
   "execution_count": 102,
   "id": "81b0e220-a1f3-40bc-a66c-8a2e0293ea36",
   "metadata": {},
   "outputs": [],
   "source": [
    "# y: (1, n, d)\n",
    "# x: (n, d2)\n",
    "np.savez(\"mouse_stringer_smoothed_4d.npz\", x=obs, y=data_red[None,:,:])"
   ]
  },
  {
   "cell_type": "code",
   "execution_count": 75,
   "id": "6eef3bc7-a15a-4df4-9f34-1fef8e5e511f",
   "metadata": {},
   "outputs": [
    {
     "data": {
      "text/plain": [
       "(21055, 10)"
      ]
     },
     "execution_count": 75,
     "metadata": {},
     "output_type": "execute_result"
    }
   ],
   "source": [
    "data_red.shape"
   ]
  },
  {
   "cell_type": "code",
   "execution_count": 78,
   "id": "dff2a0d3-b8b5-41e8-b5ba-bd9e9fb1dca4",
   "metadata": {},
   "outputs": [],
   "source": [
    "u,s,vh = np.linalg.svd(data, full_matrices=False)"
   ]
  },
  {
   "cell_type": "code",
   "execution_count": 79,
   "id": "d2740b8d-8e8a-4ce0-891a-e6fd1373c41d",
   "metadata": {},
   "outputs": [
    {
     "data": {
      "text/plain": [
       "[<matplotlib.lines.Line2D at 0x7f01b3f89940>]"
      ]
     },
     "execution_count": 79,
     "metadata": {},
     "output_type": "execute_result"
    }
   ],
   "source": [
    "plt.plot(s)"
   ]
  }
 ],
 "metadata": {
  "kernelspec": {
   "display_name": "Python 3 (ipykernel)",
   "language": "python",
   "name": "python3"
  },
  "language_info": {
   "codemirror_mode": {
    "name": "ipython",
    "version": 3
   },
   "file_extension": ".py",
   "mimetype": "text/x-python",
   "name": "python",
   "nbconvert_exporter": "python",
   "pygments_lexer": "ipython3",
   "version": "3.9.16"
  }
 },
 "nbformat": 4,
 "nbformat_minor": 5
}
