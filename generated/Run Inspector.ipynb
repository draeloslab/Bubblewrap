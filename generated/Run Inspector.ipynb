{
 "cells": [
  {
   "cell_type": "code",
   "execution_count": 1,
   "id": "2dcdc58f-6fd2-4cfe-a095-5e3656a69914",
   "metadata": {
    "tags": []
   },
   "outputs": [],
   "source": [
    "import numpy as np\n",
    "import pickle\n",
    "import os\n",
    "import re\n",
    "import pandas as pd\n",
    "import tqdm\n",
    "\n",
    "import matplotlib.pyplot as plt\n",
    "\n",
    "from scripts.run_bubblewrap import BubblewrapRun"
   ]
  },
  {
   "cell_type": "code",
   "execution_count": 2,
   "id": "54840635-c2c8-4c16-bcc7-2b8d154a29a9",
   "metadata": {
    "tags": []
   },
   "outputs": [],
   "source": [
    "run_files = []\n",
    "\n",
    "for file in os.listdir():\n",
    "    if os.path.isfile(file) and re.search(\"bubblewrap_run_.*\\.pickle\",file):\n",
    "        run_files.append(file)"
   ]
  },
  {
   "cell_type": "code",
   "execution_count": 3,
   "id": "8fd06225-4175-43d5-935e-8de906826c40",
   "metadata": {
    "tags": []
   },
   "outputs": [],
   "source": [
    "runs = []\n",
    "for file in run_files:\n",
    "    with open(file, \"rb\") as fhan:\n",
    "        br = pickle.load(fhan)\n",
    "        if br.bw_parameters and \"seed\" not in br.bw_parameters:\n",
    "            br.bw_parameters[\"seed\"] = 42\n",
    "        runs.append(br)"
   ]
  },
  {
   "cell_type": "code",
   "execution_count": 78,
   "id": "5e6509e1-ad26-4b82-a154-c3774e9445a0",
   "metadata": {
    "tags": []
   },
   "outputs": [],
   "source": [
    "# num, lam, nu, eps, B_thresh\n",
    "columns = {}\n",
    "\n",
    "for param in [\"num\", \"nu\", \"lam\", \"eps\", \"B_thresh\", \"seed\"]:\n",
    "    columns[param] = [runs[x].bw_parameters[param] for x in range(len(runs))]\n",
    "\n",
    "\n",
    "columns[\"ent1\"] = [runs[x].entropy_list[-100:,0].mean() for x in range(len(runs))]\n",
    "columns[\"ent10\"] = [runs[x].entropy_list[-100:,1].mean() for x in range(len(runs))]\n",
    "columns[\"pred1\"] = [runs[x].pred_list[-100:,0].mean() for x in range(len(runs))]\n",
    "columns[\"pred10\"] = [runs[x].pred_list[-100:,1].mean() for x in range(len(runs))]\n",
    "columns[\"time\"] = [runs[x].time_to_run if hasattr(runs[x], \"time_to_run\") else None for x in range(len(runs))]\n",
    "\n",
    "columns[\"file\"] = [runs[x].file for x in range(len(runs))]\n",
    "columns[\"run\"] = runs\n",
    "columns[\"location\"] = run_files\n",
    "fdf = pd.DataFrame(columns)"
   ]
  },
  {
   "cell_type": "code",
   "execution_count": 109,
   "id": "fc53d51a-51bb-4eeb-a1ea-0293abb7b319",
   "metadata": {
    "tags": []
   },
   "outputs": [
    {
     "data": {
      "text/plain": [
       "array(['./generated/lorenz_1trajectories_3dim_500to20500_noise0.05.npz',\n",
       "       './generated/vdp_1trajectories_2dim_500to20500_noise0.2.npz',\n",
       "       './generated/lorenz_1trajectories_3dim_500to20500_noise0.2.npz',\n",
       "       './generated/vdp_1trajectories_2dim_500to20500_noise0.05.npz',\n",
       "       'generated/vdp_100trajectories_2dim_500to20500_noise0.2.npz',\n",
       "       'generated/vdp_1trajectories_2dim_500to20500_noise0.2.npz'],\n",
       "      dtype=object)"
      ]
     },
     "execution_count": 109,
     "metadata": {},
     "output_type": "execute_result"
    }
   ],
   "source": [
    "unique_files = fdf.file.unique()\n",
    "unique_files"
   ]
  },
  {
   "cell_type": "code",
   "execution_count": null,
   "id": "09db341c-7c39-43a5-86e1-1b5330222400",
   "metadata": {},
   "outputs": [],
   "source": []
  },
  {
   "cell_type": "code",
   "execution_count": 104,
   "id": "d27722e3-777c-4876-bbe9-0d272e8bafef",
   "metadata": {
    "tags": []
   },
   "outputs": [],
   "source": [
    "df = fdf[fdf.file == unique_files[0]]"
   ]
  },
  {
   "cell_type": "code",
   "execution_count": 105,
   "id": "56f64575-e829-4764-8e50-86c2b82755fc",
   "metadata": {
    "tags": []
   },
   "outputs": [
    {
     "data": {
      "text/html": [
       "<div>\n",
       "<style scoped>\n",
       "    .dataframe tbody tr th:only-of-type {\n",
       "        vertical-align: middle;\n",
       "    }\n",
       "\n",
       "    .dataframe tbody tr th {\n",
       "        vertical-align: top;\n",
       "    }\n",
       "\n",
       "    .dataframe thead th {\n",
       "        text-align: right;\n",
       "    }\n",
       "</style>\n",
       "<table border=\"1\" class=\"dataframe\">\n",
       "  <thead>\n",
       "    <tr style=\"text-align: right;\">\n",
       "      <th></th>\n",
       "      <th>ent1</th>\n",
       "      <th>ent10</th>\n",
       "      <th>pred1</th>\n",
       "      <th>pred10</th>\n",
       "      <th>time</th>\n",
       "    </tr>\n",
       "  </thead>\n",
       "  <tbody>\n",
       "    <tr>\n",
       "      <th>num</th>\n",
       "      <td>0.479419</td>\n",
       "      <td>0.820371</td>\n",
       "      <td>0.614206</td>\n",
       "      <td>-0.111629</td>\n",
       "      <td>0.949386</td>\n",
       "    </tr>\n",
       "    <tr>\n",
       "      <th>nu</th>\n",
       "      <td>-0.000744</td>\n",
       "      <td>0.014677</td>\n",
       "      <td>0.024215</td>\n",
       "      <td>0.046374</td>\n",
       "      <td>0.041001</td>\n",
       "    </tr>\n",
       "    <tr>\n",
       "      <th>lam</th>\n",
       "      <td>-0.048973</td>\n",
       "      <td>-0.047700</td>\n",
       "      <td>-0.018634</td>\n",
       "      <td>-0.062965</td>\n",
       "      <td>-0.055963</td>\n",
       "    </tr>\n",
       "    <tr>\n",
       "      <th>eps</th>\n",
       "      <td>0.573448</td>\n",
       "      <td>0.291129</td>\n",
       "      <td>-0.523616</td>\n",
       "      <td>-0.610617</td>\n",
       "      <td>0.022681</td>\n",
       "    </tr>\n",
       "    <tr>\n",
       "      <th>B_thresh</th>\n",
       "      <td>0.380212</td>\n",
       "      <td>0.257026</td>\n",
       "      <td>-0.019321</td>\n",
       "      <td>-0.202639</td>\n",
       "      <td>0.230475</td>\n",
       "    </tr>\n",
       "  </tbody>\n",
       "</table>\n",
       "</div>"
      ],
      "text/plain": [
       "              ent1     ent10     pred1    pred10      time\n",
       "num       0.479419  0.820371  0.614206 -0.111629  0.949386\n",
       "nu       -0.000744  0.014677  0.024215  0.046374  0.041001\n",
       "lam      -0.048973 -0.047700 -0.018634 -0.062965 -0.055963\n",
       "eps       0.573448  0.291129 -0.523616 -0.610617  0.022681\n",
       "B_thresh  0.380212  0.257026 -0.019321 -0.202639  0.230475"
      ]
     },
     "execution_count": 105,
     "metadata": {},
     "output_type": "execute_result"
    }
   ],
   "source": [
    "correlations = df.corr(numeric_only=True)\n",
    "params = [\"num\", \"nu\", \"lam\", \"eps\", \"B_thresh\"]\n",
    "metrics = [\"ent1\",\"ent10\",\"pred1\",\"pred10\", \"time\"]\n",
    "param_comparison = correlations.loc[params, metrics]\n",
    "param_comparison"
   ]
  },
  {
   "cell_type": "code",
   "execution_count": 106,
   "id": "e9d0b2c2-b590-44d7-bfae-113538923c75",
   "metadata": {
    "tags": []
   },
   "outputs": [
    {
     "data": {
      "text/plain": [
       "<matplotlib.colorbar.Colorbar at 0x7fe4683ff8b0>"
      ]
     },
     "execution_count": 106,
     "metadata": {},
     "output_type": "execute_result"
    },
    {
     "data": {
      "image/png": "[encoded data removed]",
      "text/plain": [
       "<Figure size 640x480 with 2 Axes>"
      ]
     },
     "metadata": {},
     "output_type": "display_data"
    }
   ],
   "source": [
    "fig, ax = plt.subplots()\n",
    "im = ax.imshow(param_comparison)\n",
    "#np.convolve(np.arange(len(metrics)+1), [.5, .5])\n",
    "ax.set_xticks(np.arange(len(metrics)))\n",
    "ax.set_xticklabels(metrics)\n",
    "\n",
    "ax.set_yticks(np.arange(len(params)))\n",
    "ax.set_yticklabels(params)\n",
    "\n",
    "fig.colorbar(im)"
   ]
  },
  {
   "cell_type": "code",
   "execution_count": 133,
   "id": "6cfe0cb9-8c4c-4479-88ea-869dbe9ad0be",
   "metadata": {},
   "outputs": [
    {
     "data": {
      "text/plain": [
       "[<matplotlib.lines.Line2D at 0x7fe4500f2be0>]"
      ]
     },
     "execution_count": 133,
     "metadata": {},
     "output_type": "execute_result"
    },
    {
     "data": {
      "image/png": "[encoded data removed]",
      "text/plain": [
       "<Figure size 640x480 with 1 Axes>"
      ]
     },
     "metadata": {},
     "output_type": "display_data"
    }
   ],
   "source": [
    "mask = df.eps == .0001\n",
    "a = df.ent1\n",
    "b = df.ent10\n",
    "plt.plot(a[mask], b[mask], '.')\n",
    "plt.plot(a[~mask], b[~mask], '.')"
   ]
  },
  {
   "cell_type": "code",
   "execution_count": 130,
   "id": "0c2c5adb-edf1-4adc-b4c8-2d6551a23768",
   "metadata": {
    "tags": []
   },
   "outputs": [
    {
     "data": {
      "text/html": [
       "<div>\n",
       "<style scoped>\n",
       "    .dataframe tbody tr th:only-of-type {\n",
       "        vertical-align: middle;\n",
       "    }\n",
       "\n",
       "    .dataframe tbody tr th {\n",
       "        vertical-align: top;\n",
       "    }\n",
       "\n",
       "    .dataframe thead th {\n",
       "        text-align: right;\n",
       "    }\n",
       "</style>\n",
       "<table border=\"1\" class=\"dataframe\">\n",
       "  <thead>\n",
       "    <tr style=\"text-align: right;\">\n",
       "      <th></th>\n",
       "      <th>num</th>\n",
       "      <th>nu</th>\n",
       "      <th>lam</th>\n",
       "      <th>eps</th>\n",
       "      <th>B_thresh</th>\n",
       "      <th>seed</th>\n",
       "      <th>ent1</th>\n",
       "      <th>ent10</th>\n",
       "      <th>pred1</th>\n",
       "      <th>pred10</th>\n",
       "      <th>time</th>\n",
       "      <th>file</th>\n",
       "      <th>run</th>\n",
       "      <th>location</th>\n",
       "    </tr>\n",
       "  </thead>\n",
       "  <tbody>\n",
       "    <tr>\n",
       "      <th>0</th>\n",
       "      <td>1024</td>\n",
       "      <td>0.0010</td>\n",
       "      <td>0.0010</td>\n",
       "      <td>0.0001</td>\n",
       "      <td>-5</td>\n",
       "      <td>42</td>\n",
       "      <td>2.154670</td>\n",
       "      <td>7.117517</td>\n",
       "      <td>-6.093047</td>\n",
       "      <td>-12.112070</td>\n",
       "      <td>46.776133</td>\n",
       "      <td>./generated/lorenz_1trajectories_3dim_500to205...</td>\n",
       "      <td>&lt;scripts.run_bubblewrap.BubblewrapRun object a...</td>\n",
       "      <td>bubblewrap_run_2023-04-04-23-19-59.pickle</td>\n",
       "    </tr>\n",
       "    <tr>\n",
       "      <th>2</th>\n",
       "      <td>16</td>\n",
       "      <td>0.0010</td>\n",
       "      <td>0.0010</td>\n",
       "      <td>0.0001</td>\n",
       "      <td>-15</td>\n",
       "      <td>42</td>\n",
       "      <td>0.822588</td>\n",
       "      <td>1.974006</td>\n",
       "      <td>-10.159780</td>\n",
       "      <td>-10.493128</td>\n",
       "      <td>16.526105</td>\n",
       "      <td>./generated/lorenz_1trajectories_3dim_500to205...</td>\n",
       "      <td>&lt;scripts.run_bubblewrap.BubblewrapRun object a...</td>\n",
       "      <td>bubblewrap_run_2023-04-05-08-25-50.pickle</td>\n",
       "    </tr>\n",
       "    <tr>\n",
       "      <th>6</th>\n",
       "      <td>1024</td>\n",
       "      <td>0.0010</td>\n",
       "      <td>0.0001</td>\n",
       "      <td>0.0010</td>\n",
       "      <td>-10</td>\n",
       "      <td>42</td>\n",
       "      <td>2.867526</td>\n",
       "      <td>8.383525</td>\n",
       "      <td>-6.963832</td>\n",
       "      <td>-11.433135</td>\n",
       "      <td>41.378214</td>\n",
       "      <td>./generated/lorenz_1trajectories_3dim_500to205...</td>\n",
       "      <td>&lt;scripts.run_bubblewrap.BubblewrapRun object a...</td>\n",
       "      <td>bubblewrap_run_2023-04-04-23-03-42.pickle</td>\n",
       "    </tr>\n",
       "    <tr>\n",
       "      <th>10</th>\n",
       "      <td>16</td>\n",
       "      <td>0.0010</td>\n",
       "      <td>0.0010</td>\n",
       "      <td>0.0010</td>\n",
       "      <td>-15</td>\n",
       "      <td>42</td>\n",
       "      <td>0.361579</td>\n",
       "      <td>0.840695</td>\n",
       "      <td>-10.937058</td>\n",
       "      <td>-11.063611</td>\n",
       "      <td>16.207495</td>\n",
       "      <td>./generated/lorenz_1trajectories_3dim_500to205...</td>\n",
       "      <td>&lt;scripts.run_bubblewrap.BubblewrapRun object a...</td>\n",
       "      <td>bubblewrap_run_2023-04-04-23-21-43.pickle</td>\n",
       "    </tr>\n",
       "    <tr>\n",
       "      <th>11</th>\n",
       "      <td>1024</td>\n",
       "      <td>0.0001</td>\n",
       "      <td>0.0010</td>\n",
       "      <td>0.0010</td>\n",
       "      <td>-5</td>\n",
       "      <td>42</td>\n",
       "      <td>6.305058</td>\n",
       "      <td>9.517545</td>\n",
       "      <td>-7.644871</td>\n",
       "      <td>-11.500990</td>\n",
       "      <td>48.316343</td>\n",
       "      <td>./generated/lorenz_1trajectories_3dim_500to205...</td>\n",
       "      <td>&lt;scripts.run_bubblewrap.BubblewrapRun object a...</td>\n",
       "      <td>bubblewrap_run_2023-04-05-10-02-16.pickle</td>\n",
       "    </tr>\n",
       "    <tr>\n",
       "      <th>...</th>\n",
       "      <td>...</td>\n",
       "      <td>...</td>\n",
       "      <td>...</td>\n",
       "      <td>...</td>\n",
       "      <td>...</td>\n",
       "      <td>...</td>\n",
       "      <td>...</td>\n",
       "      <td>...</td>\n",
       "      <td>...</td>\n",
       "      <td>...</td>\n",
       "      <td>...</td>\n",
       "      <td>...</td>\n",
       "      <td>...</td>\n",
       "      <td>...</td>\n",
       "    </tr>\n",
       "    <tr>\n",
       "      <th>847</th>\n",
       "      <td>1024</td>\n",
       "      <td>0.0100</td>\n",
       "      <td>0.0001</td>\n",
       "      <td>0.0100</td>\n",
       "      <td>-10</td>\n",
       "      <td>42</td>\n",
       "      <td>8.741961</td>\n",
       "      <td>9.911880</td>\n",
       "      <td>-9.288745</td>\n",
       "      <td>-12.022569</td>\n",
       "      <td>42.979244</td>\n",
       "      <td>./generated/lorenz_1trajectories_3dim_500to205...</td>\n",
       "      <td>&lt;scripts.run_bubblewrap.BubblewrapRun object a...</td>\n",
       "      <td>bubblewrap_run_2023-04-05-05-41-50.pickle</td>\n",
       "    </tr>\n",
       "    <tr>\n",
       "      <th>849</th>\n",
       "      <td>16</td>\n",
       "      <td>0.0100</td>\n",
       "      <td>0.0100</td>\n",
       "      <td>0.0001</td>\n",
       "      <td>-15</td>\n",
       "      <td>42</td>\n",
       "      <td>0.726606</td>\n",
       "      <td>1.871307</td>\n",
       "      <td>-10.216708</td>\n",
       "      <td>-10.486780</td>\n",
       "      <td>16.536573</td>\n",
       "      <td>./generated/lorenz_1trajectories_3dim_500to205...</td>\n",
       "      <td>&lt;scripts.run_bubblewrap.BubblewrapRun object a...</td>\n",
       "      <td>bubblewrap_run_2023-04-05-06-59-11.pickle</td>\n",
       "    </tr>\n",
       "    <tr>\n",
       "      <th>850</th>\n",
       "      <td>16</td>\n",
       "      <td>0.0010</td>\n",
       "      <td>0.0001</td>\n",
       "      <td>0.0010</td>\n",
       "      <td>-15</td>\n",
       "      <td>390</td>\n",
       "      <td>0.364190</td>\n",
       "      <td>0.890838</td>\n",
       "      <td>-11.000175</td>\n",
       "      <td>-11.104077</td>\n",
       "      <td>16.223406</td>\n",
       "      <td>./generated/lorenz_1trajectories_3dim_500to205...</td>\n",
       "      <td>&lt;scripts.run_bubblewrap.BubblewrapRun object a...</td>\n",
       "      <td>bubblewrap_run_2023-04-05-12-04-26.pickle</td>\n",
       "    </tr>\n",
       "    <tr>\n",
       "      <th>853</th>\n",
       "      <td>1024</td>\n",
       "      <td>0.0001</td>\n",
       "      <td>0.0100</td>\n",
       "      <td>0.0001</td>\n",
       "      <td>-5</td>\n",
       "      <td>580</td>\n",
       "      <td>2.432374</td>\n",
       "      <td>7.277180</td>\n",
       "      <td>-6.242277</td>\n",
       "      <td>-12.084297</td>\n",
       "      <td>46.838399</td>\n",
       "      <td>./generated/lorenz_1trajectories_3dim_500to205...</td>\n",
       "      <td>&lt;scripts.run_bubblewrap.BubblewrapRun object a...</td>\n",
       "      <td>bubblewrap_run_2023-04-05-12-29-18.pickle</td>\n",
       "    </tr>\n",
       "    <tr>\n",
       "      <th>863</th>\n",
       "      <td>256</td>\n",
       "      <td>0.0100</td>\n",
       "      <td>0.0010</td>\n",
       "      <td>0.0100</td>\n",
       "      <td>-5</td>\n",
       "      <td>42</td>\n",
       "      <td>7.997363</td>\n",
       "      <td>7.772696</td>\n",
       "      <td>-12.585343</td>\n",
       "      <td>-12.570708</td>\n",
       "      <td>23.460357</td>\n",
       "      <td>./generated/lorenz_1trajectories_3dim_500to205...</td>\n",
       "      <td>&lt;scripts.run_bubblewrap.BubblewrapRun object a...</td>\n",
       "      <td>bubblewrap_run_2023-04-04-23-38-22.pickle</td>\n",
       "    </tr>\n",
       "  </tbody>\n",
       "</table>\n",
       "<p>226 rows × 14 columns</p>\n",
       "</div>"
      ],
      "text/plain": [
       "      num      nu     lam     eps  B_thresh  seed      ent1     ent10  \\\n",
       "0    1024  0.0010  0.0010  0.0001        -5    42  2.154670  7.117517   \n",
       "2      16  0.0010  0.0010  0.0001       -15    42  0.822588  1.974006   \n",
       "6    1024  0.0010  0.0001  0.0010       -10    42  2.867526  8.383525   \n",
       "10     16  0.0010  0.0010  0.0010       -15    42  0.361579  0.840695   \n",
       "11   1024  0.0001  0.0010  0.0010        -5    42  6.305058  9.517545   \n",
       "..    ...     ...     ...     ...       ...   ...       ...       ...   \n",
       "847  1024  0.0100  0.0001  0.0100       -10    42  8.741961  9.911880   \n",
       "849    16  0.0100  0.0100  0.0001       -15    42  0.726606  1.871307   \n",
       "850    16  0.0010  0.0001  0.0010       -15   390  0.364190  0.890838   \n",
       "853  1024  0.0001  0.0100  0.0001        -5   580  2.432374  7.277180   \n",
       "863   256  0.0100  0.0010  0.0100        -5    42  7.997363  7.772696   \n",
       "\n",
       "         pred1     pred10       time  \\\n",
       "0    -6.093047 -12.112070  46.776133   \n",
       "2   -10.159780 -10.493128  16.526105   \n",
       "6    -6.963832 -11.433135  41.378214   \n",
       "10  -10.937058 -11.063611  16.207495   \n",
       "11   -7.644871 -11.500990  48.316343   \n",
       "..         ...        ...        ...   \n",
       "847  -9.288745 -12.022569  42.979244   \n",
       "849 -10.216708 -10.486780  16.536573   \n",
       "850 -11.000175 -11.104077  16.223406   \n",
       "853  -6.242277 -12.084297  46.838399   \n",
       "863 -12.585343 -12.570708  23.460357   \n",
       "\n",
       "                                                  file  \\\n",
       "0    ./generated/lorenz_1trajectories_3dim_500to205...   \n",
       "2    ./generated/lorenz_1trajectories_3dim_500to205...   \n",
       "6    ./generated/lorenz_1trajectories_3dim_500to205...   \n",
       "10   ./generated/lorenz_1trajectories_3dim_500to205...   \n",
       "11   ./generated/lorenz_1trajectories_3dim_500to205...   \n",
       "..                                                 ...   \n",
       "847  ./generated/lorenz_1trajectories_3dim_500to205...   \n",
       "849  ./generated/lorenz_1trajectories_3dim_500to205...   \n",
       "850  ./generated/lorenz_1trajectories_3dim_500to205...   \n",
       "853  ./generated/lorenz_1trajectories_3dim_500to205...   \n",
       "863  ./generated/lorenz_1trajectories_3dim_500to205...   \n",
       "\n",
       "                                                   run  \\\n",
       "0    <scripts.run_bubblewrap.BubblewrapRun object a...   \n",
       "2    <scripts.run_bubblewrap.BubblewrapRun object a...   \n",
       "6    <scripts.run_bubblewrap.BubblewrapRun object a...   \n",
       "10   <scripts.run_bubblewrap.BubblewrapRun object a...   \n",
       "11   <scripts.run_bubblewrap.BubblewrapRun object a...   \n",
       "..                                                 ...   \n",
       "847  <scripts.run_bubblewrap.BubblewrapRun object a...   \n",
       "849  <scripts.run_bubblewrap.BubblewrapRun object a...   \n",
       "850  <scripts.run_bubblewrap.BubblewrapRun object a...   \n",
       "853  <scripts.run_bubblewrap.BubblewrapRun object a...   \n",
       "863  <scripts.run_bubblewrap.BubblewrapRun object a...   \n",
       "\n",
       "                                      location  \n",
       "0    bubblewrap_run_2023-04-04-23-19-59.pickle  \n",
       "2    bubblewrap_run_2023-04-05-08-25-50.pickle  \n",
       "6    bubblewrap_run_2023-04-04-23-03-42.pickle  \n",
       "10   bubblewrap_run_2023-04-04-23-21-43.pickle  \n",
       "11   bubblewrap_run_2023-04-05-10-02-16.pickle  \n",
       "..                                         ...  \n",
       "847  bubblewrap_run_2023-04-05-05-41-50.pickle  \n",
       "849  bubblewrap_run_2023-04-05-06-59-11.pickle  \n",
       "850  bubblewrap_run_2023-04-05-12-04-26.pickle  \n",
       "853  bubblewrap_run_2023-04-05-12-29-18.pickle  \n",
       "863  bubblewrap_run_2023-04-04-23-38-22.pickle  \n",
       "\n",
       "[226 rows x 14 columns]"
      ]
     },
     "execution_count": 130,
     "metadata": {},
     "output_type": "execute_result"
    }
   ],
   "source": [
    "df"
   ]
  },
  {
   "cell_type": "code",
   "execution_count": 82,
   "id": "fe0600f5-5ca8-4922-afd1-960320b30889",
   "metadata": {
    "tags": []
   },
   "outputs": [],
   "source": [
    "for file in df.loc[df.iloc[:,:-2].duplicated(),\"location\"]:\n",
    "    print(f\"mv {file} duplicates\")"
   ]
  }
 ],
 "metadata": {
  "kernelspec": {
   "display_name": "Python 3 (ipykernel)",
   "language": "python",
   "name": "python3"
  },
  "language_info": {
   "codemirror_mode": {
    "name": "ipython",
    "version": 3
   },
   "file_extension": ".py",
   "mimetype": "text/x-python",
   "name": "python",
   "nbconvert_exporter": "python",
   "pygments_lexer": "ipython3",
   "version": "3.9.16"
  }
 },
 "nbformat": 4,
 "nbformat_minor": 5
}
